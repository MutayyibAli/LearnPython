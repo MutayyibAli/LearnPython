{
 "cells": [
  {
   "cell_type": "markdown",
   "id": "01961185",
   "metadata": {},
   "source": [
    "# Algorithms\n",
    "\n",
    "## ❌ Algorithms, Part I\n",
    "https://www.coursera.org/learn/algorithms-part1\n",
    "\n",
    "## ❌ Algorithms, Part II\n",
    "https://www.coursera.org/learn/algorithms-part2\n",
    "\n",
    "# Introduction to Discrete Mathematics for Computer Science Specialization\n",
    "\n",
    "## ❌ Mathematical Thinking in Computer Science\n",
    "https://www.coursera.org/learn/what-is-a-proof\n",
    "\n",
    "## ❌ Combinatorics and Probability\n",
    "https://www.coursera.org/learn/combinatorics\n",
    "\n",
    "## ❌ Introduction to Graph Theory\n",
    "https://www.coursera.org/learn/graphs\n",
    "\n",
    "## ❌ Number Theory and Cryptography\n",
    "https://www.coursera.org/learn/number-theory-cryptography\n",
    "\n",
    "## ❌ Delivery Problem\n",
    "https://www.coursera.org/learn/delivery-problem"
   ]
  },
  {
   "cell_type": "markdown",
   "id": "d29dca6c",
   "metadata": {},
   "source": [
    "# ❌ People and Soft Skills for Professional and Personal Success Specialization\n",
    "https://www.coursera.org/specializations/people-and-soft-skills-for-professional-success"
   ]
  }
 ],
 "metadata": {
  "language_info": {
   "name": "python"
  }
 },
 "nbformat": 4,
 "nbformat_minor": 5
}

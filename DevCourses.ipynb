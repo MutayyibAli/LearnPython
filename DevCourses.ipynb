{
 "cells": [
  {
   "cell_type": "markdown",
   "id": "01961185",
   "metadata": {},
   "source": [
    "# Algorithms, Part I\n",
    "https://www.coursera.org/learn/algorithms-part1\n",
    "\n",
    "# Algorithms, Part II\n",
    "https://www.coursera.org/learn/algorithms-part2\n",
    "\n",
    "# Mathematical Thinking in Computer Science\n",
    "https://www.coursera.org/learn/what-is-a-proof"
   ]
  }
 ],
 "metadata": {
  "language_info": {
   "name": "python"
  }
 },
 "nbformat": 4,
 "nbformat_minor": 5
}

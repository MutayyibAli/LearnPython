{
 "cells": [
  {
   "cell_type": "markdown",
   "id": "e8e80bc7",
   "metadata": {},
   "source": [
    "# Machine Learning\n",
    "- Labs to be completed for all of the following\n",
    "\n",
    "## Data Analysis with Python\n",
    "https://www.coursera.org/learn/data-analysis-with-python\n",
    "\n",
    "## Data Visualization with Python\n",
    "https://www.coursera.org/learn/python-for-data-visualization\n",
    "\n",
    "## Exploratory Data Analysis for Machine Learning\n",
    "https://www.coursera.org/learn/ibm-exploratory-data-analysis-for-machine-learning\n",
    "\n",
    "## Machine Learning with Python\n",
    "https://www.coursera.org/learn/machine-learning-with-python/home\n",
    "\n",
    "## Supervised Machine Learning: Regression\n",
    "https://www.coursera.org/learn/supervised-machine-learning-regression\n",
    "\n",
    "## Supervised Machine Learning: Classification\n",
    "https://www.coursera.org/learn/supervised-machine-learning-classification\n",
    "\n",
    "## Unsupervised Machine Learning\n",
    "https://www.coursera.org/learn/ibm-unsupervised-machine-learning\n",
    "\n",
    "## Deep Learning and Reinforcement Learning\n",
    "https://www.coursera.org/learn/deep-learning-reinforcement-learning"
   ]
  },
  {
   "cell_type": "markdown",
   "id": "69b19db1",
   "metadata": {},
   "source": [
    "# Deep Learning\n",
    "- Labs to be completed for all of the following\n",
    "\n",
    "## Introduction to Deep Learning & Neural Networks with Keras\n",
    "https://www.coursera.org/learn/introduction-to-deep-learning-with-keras\n",
    "\n",
    "## Deep Learning with Keras and Tensorflow\n",
    "https://www.coursera.org/learn/building-deep-learning-models-with-tensorflow\n",
    "\n",
    "## Introduction to Neural Networks and PyTorch\n",
    "https://www.coursera.org/learn/deep-neural-networks-with-pytorch\n",
    "\n",
    "## Deep Learning with PyTorch\n",
    "https://www.coursera.org/learn/advanced-deep-learning-with-pytorch\n"
   ]
  },
  {
   "cell_type": "markdown",
   "id": "4adebcaf",
   "metadata": {},
   "source": [
    "# Generative AI\n",
    "- Labs to be completed for all of the following\n",
    "\n",
    "## Generative AI and LLMs: Architecture and Data Preparation\n",
    "https://www.coursera.org/learn/generative-ai-llm-architecture-data-preparation\n",
    "\n",
    "## Gen AI Foundational Models for NLP & Language Understanding\n",
    "https://www.coursera.org/learn/gen-ai-foundational-models-for-nlp-and-language-understanding\n",
    "\n",
    "## Generative AI Language Modeling with Transformers\n",
    "https://www.coursera.org/learn/generative-ai-language-modeling-with-transformers\n",
    "\n",
    "## Generative AI Engineering and Fine-Tuning Transformers\n",
    "https://www.coursera.org/learn/generative-ai-engineering-and-fine-tuning-transformers\n",
    "\n",
    "## Generative AI Advance Fine-Tuning for LLMs\n",
    "https://www.coursera.org/learn/generative-ai-advanced-fine-tuning-for-llms\n",
    "\n",
    "## Fundamentals of AI Agents Using RAG and LangChain\n",
    "https://www.coursera.org/learn/fundamentals-of-ai-agents-using-rag-and-langchain\n"
   ]
  },
  {
   "cell_type": "markdown",
   "id": "ff5921b5",
   "metadata": {},
   "source": [
    "# Projects"
   ]
  },
  {
   "cell_type": "markdown",
   "id": "8dc4f723",
   "metadata": {},
   "source": [
    "## IBM Data Analyst Capstone Project\n",
    "https://www.coursera.org/learn/ibm-data-analyst-capstone-project\n",
    "\n",
    "- Nothing Completed"
   ]
  },
  {
   "cell_type": "markdown",
   "id": "5d7ab5a3",
   "metadata": {},
   "source": [
    "## Applied Data Science Capstone\n",
    "https://www.coursera.org/learn/applied-data-science-capstone\n",
    "- Nothing Completed"
   ]
  },
  {
   "cell_type": "markdown",
   "id": "34711839",
   "metadata": {},
   "source": [
    "## Python Project for Data Science\n",
    "https://www.coursera.org/learn/python-project-for-data-science\n",
    "- Nothing Completed"
   ]
  },
  {
   "cell_type": "markdown",
   "id": "4a6671a0",
   "metadata": {},
   "source": [
    "## Python Project for Data Engineering\n",
    "https://www.coursera.org/learn/python-project-for-data-engineering\n",
    "- Nothing Completed"
   ]
  },
  {
   "cell_type": "markdown",
   "id": "9a6986d7",
   "metadata": {},
   "source": [
    "## Data Science Project Capstone: Predicting Bicycle Rental\n",
    "https://www.coursera.org/learn/data-science-project-capstone-predicting-bicycle-rental\n",
    "- Nothing Completed"
   ]
  },
  {
   "cell_type": "markdown",
   "id": "2c558c43",
   "metadata": {},
   "source": [
    "## Machine Learning Capstone\n",
    "https://www.coursera.org/learn/machine-learning-capstone\n",
    "- Nothing Completed"
   ]
  },
  {
   "cell_type": "markdown",
   "id": "83667772",
   "metadata": {},
   "source": [
    "## AI Capstone Project with Deep Learning\n",
    "https://www.coursera.org/learn/ai-deep-learning-capstone\n",
    "- Nothing Completed"
   ]
  },
  {
   "cell_type": "markdown",
   "id": "e37252ab",
   "metadata": {},
   "source": [
    "## Project: Generative AI Applications with RAG and LangChain\n",
    "https://www.coursera.org/learn/project-generative-ai-applications-with-rag-and-langchain\n",
    "- Nothing Completed"
   ]
  }
 ],
 "metadata": {
  "language_info": {
   "name": "python"
  }
 },
 "nbformat": 4,
 "nbformat_minor": 5
}

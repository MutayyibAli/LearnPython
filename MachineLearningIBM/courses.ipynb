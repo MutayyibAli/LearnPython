{
 "cells": [
  {
   "cell_type": "markdown",
   "id": "e8e80bc7",
   "metadata": {},
   "source": [
    "# Machine Learning\n",
    "- Labs and Assignments to be completed for all of the following\n",
    "\n",
    "## Data Analysis with Python\n",
    "https://www.coursera.org/learn/data-analysis-with-python\n",
    "\n",
    "## Data Visualization with Python\n",
    "https://www.coursera.org/learn/python-for-data-visualization\n",
    "\n",
    "## Exploratory Data Analysis for Machine Learning\n",
    "https://www.coursera.org/learn/ibm-exploratory-data-analysis-for-machine-learning\n",
    "\n",
    "## Machine Learning with Python\n",
    "https://www.coursera.org/learn/machine-learning-with-python/home\n",
    "\n",
    "## Supervised Machine Learning: Regression\n",
    "https://www.coursera.org/learn/supervised-machine-learning-regression\n",
    "\n",
    "## Supervised Machine Learning: Classification\n",
    "https://www.coursera.org/learn/supervised-machine-learning-classification\n",
    "\n",
    "## Unsupervised Machine Learning\n",
    "https://www.coursera.org/learn/ibm-unsupervised-machine-learning\n",
    "\n",
    "## Deep Learning and Reinforcement Learning\n",
    "https://www.coursera.org/learn/deep-learning-reinforcement-learning"
   ]
  },
  {
   "cell_type": "markdown",
   "id": "69b19db1",
   "metadata": {},
   "source": [
    "# Deep Learning\n",
    "- Labs and Assignments to be completed for all of the following\n",
    "\n",
    "## Introduction to Deep Learning & Neural Networks with Keras\n",
    "https://www.coursera.org/learn/introduction-to-deep-learning-with-keras\n",
    "\n",
    "## Deep Learning with Keras and Tensorflow\n",
    "https://www.coursera.org/learn/building-deep-learning-models-with-tensorflow\n",
    "\n",
    "## Introduction to Neural Networks and PyTorch\n",
    "https://www.coursera.org/learn/deep-neural-networks-with-pytorch\n",
    "\n",
    "## Deep Learning with PyTorch\n",
    "https://www.coursera.org/learn/advanced-deep-learning-with-pytorch\n"
   ]
  },
  {
   "cell_type": "markdown",
   "id": "4adebcaf",
   "metadata": {},
   "source": [
    "# NLP & Generative AI\n",
    "- Labs and Assignments to be completed for all of the following\n",
    "\n",
    "## Generative AI and LLMs: Architecture and Data Preparation\n",
    "https://www.coursera.org/learn/generative-ai-llm-architecture-data-preparation\n",
    "\n",
    "## Gen AI Foundational Models for NLP & Language Understanding\n",
    "https://www.coursera.org/learn/gen-ai-foundational-models-for-nlp-and-language-understanding\n",
    "\n",
    "## Generative AI Language Modeling with Transformers\n",
    "https://www.coursera.org/learn/generative-ai-language-modeling-with-transformers\n",
    "\n",
    "## Generative AI Engineering and Fine-Tuning Transformers\n",
    "https://www.coursera.org/learn/generative-ai-engineering-and-fine-tuning-transformers\n",
    "\n",
    "## Generative AI Advance Fine-Tuning for LLMs\n",
    "https://www.coursera.org/learn/generative-ai-advanced-fine-tuning-for-llms\n",
    "\n",
    "## Fundamentals of AI Agents Using RAG and LangChain\n",
    "https://www.coursera.org/learn/fundamentals-of-ai-agents-using-rag-and-langchain\n"
   ]
  },
  {
   "cell_type": "markdown",
   "id": "d77644d7",
   "metadata": {},
   "source": [
    "# DeepLearning.AI\n",
    "\n",
    "## Data Engineering Professional Certificate\n",
    "### Introduction to Data Engineering\n",
    "https://www.coursera.org/learn/intro-to-data-engineering\n",
    "### Source Systems, Data Ingestion, and Pipelines\n",
    "https://www.coursera.org/learn/source-systems-data-ingestion-and-pipelines\n",
    "### Data Storage and Queries\n",
    "https://www.coursera.org/learn/data-storage-and-queries\n",
    "### Data Modeling, Transformation, and Serving\n",
    "https://www.coursera.org/learn/data-modeling-transformation-serving\n",
    "\n",
    "## Data Analytics Professional Certificate\n",
    "### Data Analytics Foundations\n",
    "https://www.coursera.org/learn/data-analytics-foundations\n",
    "### Applied Statistics for Data Analytics\n",
    "https://www.coursera.org/learn/applied-statistics-for-data-analytics\n",
    "### Python for Data Analytics\n",
    "https://www.coursera.org/learn/python-for-data-analytics\n",
    "### Data I/O and Preprocessing with Python and SQL\n",
    "https://www.coursera.org/learn/data-io-and-processing-with-python-and-sql\n",
    "### Data Storytelling\n",
    "https://www.coursera.org/learn/dlai-data-storytelling\n",
    "\n",
    "## Mathematics for Machine Learning and Data Science Specialization\n",
    "### Linear Algebra\n",
    "https://www.coursera.org/learn/machine-learning-linear-algebra\n",
    "### Calculus\n",
    "https://www.coursera.org/learn/machine-learning-calculus\n",
    "### Probability & Statistics\n",
    "https://www.coursera.org/learn/machine-learning-probability-and-statistics\n",
    "\n",
    "## Machine Learning Specialization\n",
    "### Supervised Machine Learning: Regression and Classification\n",
    "https://www.coursera.org/learn/machine-learning\n",
    "### Advanced Learning Algorithms\n",
    "https://www.coursera.org/learn/advanced-learning-algorithms\n",
    "### Unsupervised Learning, Recommenders, Reinforcement Learning\n",
    "https://www.coursera.org/learn/unsupervised-learning-recommenders-reinforcement-learning\n",
    "\n",
    "## Deep Learning Specialization\n",
    "### Neural Networks and Deep Learning\n",
    "https://www.coursera.org/learn/neural-networks-deep-learning\n",
    "### Improving Deep Neural Networks: Hyperparameter Tuning, Regularization and Optimization\n",
    "https://www.coursera.org/learn/deep-neural-network\n",
    "### Structuring Machine Learning Projects\n",
    "https://www.coursera.org/learn/machine-learning-projects\n",
    "### Convolutional Neural Networks\n",
    "https://www.coursera.org/learn/convolutional-neural-networks\n",
    "### Sequence Models\n",
    "https://www.coursera.org/learn/nlp-sequence-models\n",
    "\n",
    "## Generative Adversarial Networks (GANs) Specialization\n",
    "### Build Basic Generative Adversarial Networks (GANs)\n",
    "https://www.coursera.org/learn/build-basic-generative-adversarial-networks-gans\n",
    "### Build Better Generative Adversarial Networks (GANs)\n",
    "https://www.coursera.org/learn/build-better-generative-adversarial-networks-gans\n",
    "### Apply Generative Adversarial Networks (GANs)\n",
    "https://www.coursera.org/learn/apply-generative-adversarial-networks-gans\n",
    "\n",
    "## Natural Language Processing Specialization\n",
    "### Natural Language Processing with Classification and Vector Spaces\n",
    "https://www.coursera.org/learn/classification-vector-spaces-in-nlp\n",
    "### Natural Language Processing with Probabilistic Models\n",
    "https://www.coursera.org/learn/probabilistic-models-in-nlp\n",
    "### Natural Language Processing with Sequence Models\n",
    "https://www.coursera.org/learn/sequence-models-in-nlp\n",
    "### Natural Language Processing with Attention Models\n",
    "https://www.coursera.org/learn/attention-models-in-nlp\n",
    "\n",
    "## TensorFlow: Advanced Techniques Specialization\n",
    "### Custom Models, Layers, and Loss Functions with TensorFlow\n",
    "https://www.coursera.org/learn/custom-models-layers-loss-functions-with-tensorflow\n",
    "### Custom and Distributed Training with TensorFlow\n",
    "https://www.coursera.org/learn/custom-distributed-training-with-tensorflow\n",
    "### Advanced Computer Vision with TensorFlow\n",
    "https://www.coursera.org/learn/advanced-computer-vision-with-tensorflow\n",
    "### Generative Deep Learning with TensorFlow\n",
    "https://www.coursera.org/learn/generative-deep-learning-with-tensorflow\n",
    "\n",
    "## TensorFlow: Data and Deployment Specialization\n",
    "### Browser-based Models with TensorFlow.js\n",
    "https://www.coursera.org/learn/browser-based-models-tensorflow\n",
    "### Device-based Models with TensorFlow Lite\n",
    "https://www.coursera.org/learn/device-based-models-tensorflow\n",
    "### Data Pipelines with TensorFlow Data Services\n",
    "https://www.coursera.org/learn/data-pipelines-tensorflow\n",
    "### Advanced Deployment Scenarios with TensorFlow\n",
    "https://www.coursera.org/learn/advanced-deployment-scenarios-tensorflow\n"
   ]
  },
  {
   "cell_type": "markdown",
   "id": "ff5921b5",
   "metadata": {},
   "source": [
    "# Projects"
   ]
  },
  {
   "cell_type": "markdown",
   "id": "8dc4f723",
   "metadata": {},
   "source": [
    "## IBM Data Analyst Capstone Project\n",
    "https://www.coursera.org/learn/ibm-data-analyst-capstone-project\n",
    "\n",
    "- Nothing Completed"
   ]
  },
  {
   "cell_type": "markdown",
   "id": "5d7ab5a3",
   "metadata": {},
   "source": [
    "## Applied Data Science Capstone\n",
    "https://www.coursera.org/learn/applied-data-science-capstone\n",
    "- Nothing Completed"
   ]
  },
  {
   "cell_type": "markdown",
   "id": "34711839",
   "metadata": {},
   "source": [
    "## Python Project for Data Science\n",
    "https://www.coursera.org/learn/python-project-for-data-science\n",
    "- Nothing Completed"
   ]
  },
  {
   "cell_type": "markdown",
   "id": "4a6671a0",
   "metadata": {},
   "source": [
    "## Python Project for Data Engineering\n",
    "https://www.coursera.org/learn/python-project-for-data-engineering\n",
    "- Nothing Completed"
   ]
  },
  {
   "cell_type": "markdown",
   "id": "9a6986d7",
   "metadata": {},
   "source": [
    "## Data Science Project Capstone: Predicting Bicycle Rental\n",
    "https://www.coursera.org/learn/data-science-project-capstone-predicting-bicycle-rental\n",
    "- Nothing Completed"
   ]
  },
  {
   "cell_type": "markdown",
   "id": "2c558c43",
   "metadata": {},
   "source": [
    "## Machine Learning Capstone\n",
    "https://www.coursera.org/learn/machine-learning-capstone\n",
    "- Nothing Completed"
   ]
  },
  {
   "cell_type": "markdown",
   "id": "83667772",
   "metadata": {},
   "source": [
    "## AI Capstone Project with Deep Learning\n",
    "https://www.coursera.org/learn/ai-deep-learning-capstone\n",
    "- Nothing Completed"
   ]
  },
  {
   "cell_type": "markdown",
   "id": "e37252ab",
   "metadata": {},
   "source": [
    "## Project: Generative AI Applications with RAG and LangChain\n",
    "https://www.coursera.org/learn/project-generative-ai-applications-with-rag-and-langchain\n",
    "- Nothing Completed"
   ]
  }
 ],
 "metadata": {
  "language_info": {
   "name": "python"
  }
 },
 "nbformat": 4,
 "nbformat_minor": 5
}

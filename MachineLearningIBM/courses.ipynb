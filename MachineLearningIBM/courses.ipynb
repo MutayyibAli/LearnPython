{
 "cells": [
  {
   "cell_type": "markdown",
   "id": "e8e80bc7",
   "metadata": {},
   "source": [
    "# Machine Learning\n",
    "- Labs to be completed for all of the following\n",
    "\n",
    "## Exploratory Data Analysis for Machine Learning\n",
    "https://www.coursera.org/learn/ibm-exploratory-data-analysis-for-machine-learning\n",
    "\n",
    "## Supervised Machine Learning: Regression\n",
    "https://www.coursera.org/learn/supervised-machine-learning-regression\n",
    "\n",
    "## Supervised Machine Learning: Classification\n",
    "https://www.coursera.org/learn/supervised-machine-learning-classification\n",
    "\n",
    "## Unsupervised Machine Learning\n",
    "https://www.coursera.org/learn/ibm-unsupervised-machine-learning\n",
    "\n",
    "## Deep Learning and Reinforcement Learning\n",
    "https://www.coursera.org/learn/deep-learning-reinforcement-learning"
   ]
  },
  {
   "cell_type": "markdown",
   "id": "d5492731",
   "metadata": {},
   "source": [
    "- Lab to be completed\n",
    "\n",
    "## Data Analysis with Python\n",
    "https://www.coursera.org/learn/data-analysis-with-python\n",
    "\n",
    "## Data Visualization with Python\n",
    "https://www.coursera.org/learn/python-for-data-visualization\n",
    "\n",
    "## Machine Learning with Python\n",
    "https://www.coursera.org/learn/machine-learning-with-python/home"
   ]
  },
  {
   "cell_type": "markdown",
   "id": "ff5921b5",
   "metadata": {},
   "source": [
    "# Projects"
   ]
  },
  {
   "cell_type": "markdown",
   "id": "8dc4f723",
   "metadata": {},
   "source": [
    "## IBM Data Analyst Capstone Project\n",
    "https://www.coursera.org/learn/ibm-data-analyst-capstone-project/home\n",
    "\n",
    "- Nothing Completed"
   ]
  },
  {
   "cell_type": "markdown",
   "id": "5d7ab5a3",
   "metadata": {},
   "source": [
    "## Applied Data Science Capstone\n",
    "https://www.coursera.org/learn/applied-data-science-capstone/home\n",
    "- Nothing Completed"
   ]
  },
  {
   "cell_type": "markdown",
   "id": "34711839",
   "metadata": {},
   "source": [
    "## Python Project for Data Science\n",
    "https://www.coursera.org/learn/python-project-for-data-science/home\n",
    "- Nothing Completed"
   ]
  },
  {
   "cell_type": "markdown",
   "id": "4a6671a0",
   "metadata": {},
   "source": [
    "## Python Project for Data Engineering\n",
    "https://www.coursera.org/learn/python-project-for-data-engineering/home\n",
    "- Nothing Completed"
   ]
  },
  {
   "cell_type": "markdown",
   "id": "9a6986d7",
   "metadata": {},
   "source": [
    "## Data Science Project Capstone: Predicting Bicycle Rental\n",
    "https://www.coursera.org/learn/data-science-project-capstone-predicting-bicycle-rental/home\n",
    "- Nothing Completed"
   ]
  },
  {
   "cell_type": "markdown",
   "id": "2c558c43",
   "metadata": {},
   "source": [
    "## Machine Learning Capstone\n",
    "https://www.coursera.org/learn/machine-learning-capstone/home\n",
    "- Nothing Completed"
   ]
  },
  {
   "cell_type": "markdown",
   "id": "a2967cb8",
   "metadata": {},
   "source": []
  }
 ],
 "metadata": {
  "language_info": {
   "name": "python"
  }
 },
 "nbformat": 4,
 "nbformat_minor": 5
}

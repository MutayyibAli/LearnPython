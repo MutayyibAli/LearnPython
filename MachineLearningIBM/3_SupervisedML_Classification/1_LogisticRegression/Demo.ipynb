{
 "cells": [
  {
   "cell_type": "markdown",
   "id": "2c60a963-341f-458a-9bcd-58671c2d377b",
   "metadata": {},
   "source": [
    "# Machine Learning Foundation\n",
    "\n",
    "## Course 3, Part a: Logistic Regression LAB\n"
   ]
  },
  {
   "cell_type": "markdown",
   "id": "f21dc06c-4b15-4e84-b4c8-c3567664cd0c",
   "metadata": {},
   "source": [
    "## Introduction\n",
    "\n",
    "We will be using the [Human Activity Recognition with Smartphones](https://archive.ics.uci.edu/ml/datasets/Human+Activity+Recognition+Using+Smartphones) database, which was built from the recordings of study participants who carried a smartphone with an embedded inertial sensor while performing activities of daily living (ADL). The objective is to classify the activities the participants performed into one of the six following categories: walking, walking upstairs, walking downstairs, sitting, standing, and laying.\n",
    "\n",
    "The following information is provided for each record in the dataset: \n",
    "\n",
    "- Triaxial acceleration from the accelerometer (total acceleration) and the estimated body acceleration \n",
    "- Triaxial Angular velocity from the gyroscope \n",
    "- A 561-feature vector with time and frequency domain variables \n",
    "- The activity label \n",
    "\n",
    "More information about the features are available on the website linked above.\n"
   ]
  },
  {
   "cell_type": "code",
   "execution_count": 1,
   "id": "d6c1ad14-9fcc-4453-97cc-bec1c464ee8c",
   "metadata": {},
   "outputs": [
    {
     "name": "stdout",
     "output_type": "stream",
     "text": [
      "Requirement already satisfied: seaborn in c:\\users\\mutay\\appdata\\local\\programs\\python\\python313\\lib\\site-packages (0.13.2)\n",
      "Requirement already satisfied: numpy!=1.24.0,>=1.20 in c:\\users\\mutay\\appdata\\local\\programs\\python\\python313\\lib\\site-packages (from seaborn) (2.2.4)\n",
      "Requirement already satisfied: pandas>=1.2 in c:\\users\\mutay\\appdata\\local\\programs\\python\\python313\\lib\\site-packages (from seaborn) (2.2.3)\n",
      "Requirement already satisfied: matplotlib!=3.6.1,>=3.4 in c:\\users\\mutay\\appdata\\local\\programs\\python\\python313\\lib\\site-packages (from seaborn) (3.10.1)\n",
      "Requirement already satisfied: contourpy>=1.0.1 in c:\\users\\mutay\\appdata\\local\\programs\\python\\python313\\lib\\site-packages (from matplotlib!=3.6.1,>=3.4->seaborn) (1.3.1)\n",
      "Requirement already satisfied: cycler>=0.10 in c:\\users\\mutay\\appdata\\local\\programs\\python\\python313\\lib\\site-packages (from matplotlib!=3.6.1,>=3.4->seaborn) (0.12.1)\n",
      "Requirement already satisfied: fonttools>=4.22.0 in c:\\users\\mutay\\appdata\\local\\programs\\python\\python313\\lib\\site-packages (from matplotlib!=3.6.1,>=3.4->seaborn) (4.56.0)\n",
      "Requirement already satisfied: kiwisolver>=1.3.1 in c:\\users\\mutay\\appdata\\local\\programs\\python\\python313\\lib\\site-packages (from matplotlib!=3.6.1,>=3.4->seaborn) (1.4.8)\n",
      "Requirement already satisfied: packaging>=20.0 in c:\\users\\mutay\\appdata\\local\\programs\\python\\python313\\lib\\site-packages (from matplotlib!=3.6.1,>=3.4->seaborn) (24.2)\n",
      "Requirement already satisfied: pillow>=8 in c:\\users\\mutay\\appdata\\local\\programs\\python\\python313\\lib\\site-packages (from matplotlib!=3.6.1,>=3.4->seaborn) (11.1.0)\n",
      "Requirement already satisfied: pyparsing>=2.3.1 in c:\\users\\mutay\\appdata\\local\\programs\\python\\python313\\lib\\site-packages (from matplotlib!=3.6.1,>=3.4->seaborn) (3.2.1)\n",
      "Requirement already satisfied: python-dateutil>=2.7 in c:\\users\\mutay\\appdata\\local\\programs\\python\\python313\\lib\\site-packages (from matplotlib!=3.6.1,>=3.4->seaborn) (2.9.0.post0)\n",
      "Requirement already satisfied: pytz>=2020.1 in c:\\users\\mutay\\appdata\\local\\programs\\python\\python313\\lib\\site-packages (from pandas>=1.2->seaborn) (2025.1)\n",
      "Requirement already satisfied: tzdata>=2022.7 in c:\\users\\mutay\\appdata\\local\\programs\\python\\python313\\lib\\site-packages (from pandas>=1.2->seaborn) (2025.1)\n",
      "Requirement already satisfied: six>=1.5 in c:\\users\\mutay\\appdata\\local\\programs\\python\\python313\\lib\\site-packages (from python-dateutil>=2.7->matplotlib!=3.6.1,>=3.4->seaborn) (1.17.0)\n",
      "Requirement already satisfied: pandas in c:\\users\\mutay\\appdata\\local\\programs\\python\\python313\\lib\\site-packages (2.2.3)\n",
      "Requirement already satisfied: numpy>=1.26.0 in c:\\users\\mutay\\appdata\\local\\programs\\python\\python313\\lib\\site-packages (from pandas) (2.2.4)\n",
      "Requirement already satisfied: python-dateutil>=2.8.2 in c:\\users\\mutay\\appdata\\local\\programs\\python\\python313\\lib\\site-packages (from pandas) (2.9.0.post0)\n",
      "Requirement already satisfied: pytz>=2020.1 in c:\\users\\mutay\\appdata\\local\\programs\\python\\python313\\lib\\site-packages (from pandas) (2025.1)\n",
      "Requirement already satisfied: tzdata>=2022.7 in c:\\users\\mutay\\appdata\\local\\programs\\python\\python313\\lib\\site-packages (from pandas) (2025.1)\n",
      "Requirement already satisfied: six>=1.5 in c:\\users\\mutay\\appdata\\local\\programs\\python\\python313\\lib\\site-packages (from python-dateutil>=2.8.2->pandas) (1.17.0)\n",
      "Requirement already satisfied: numpy in c:\\users\\mutay\\appdata\\local\\programs\\python\\python313\\lib\\site-packages (2.2.4)\n",
      "Requirement already satisfied: matplotlib in c:\\users\\mutay\\appdata\\local\\programs\\python\\python313\\lib\\site-packages (3.10.1)\n",
      "Requirement already satisfied: contourpy>=1.0.1 in c:\\users\\mutay\\appdata\\local\\programs\\python\\python313\\lib\\site-packages (from matplotlib) (1.3.1)\n",
      "Requirement already satisfied: cycler>=0.10 in c:\\users\\mutay\\appdata\\local\\programs\\python\\python313\\lib\\site-packages (from matplotlib) (0.12.1)\n",
      "Requirement already satisfied: fonttools>=4.22.0 in c:\\users\\mutay\\appdata\\local\\programs\\python\\python313\\lib\\site-packages (from matplotlib) (4.56.0)\n",
      "Requirement already satisfied: kiwisolver>=1.3.1 in c:\\users\\mutay\\appdata\\local\\programs\\python\\python313\\lib\\site-packages (from matplotlib) (1.4.8)\n",
      "Requirement already satisfied: numpy>=1.23 in c:\\users\\mutay\\appdata\\local\\programs\\python\\python313\\lib\\site-packages (from matplotlib) (2.2.4)\n",
      "Requirement already satisfied: packaging>=20.0 in c:\\users\\mutay\\appdata\\local\\programs\\python\\python313\\lib\\site-packages (from matplotlib) (24.2)\n",
      "Requirement already satisfied: pillow>=8 in c:\\users\\mutay\\appdata\\local\\programs\\python\\python313\\lib\\site-packages (from matplotlib) (11.1.0)\n",
      "Requirement already satisfied: pyparsing>=2.3.1 in c:\\users\\mutay\\appdata\\local\\programs\\python\\python313\\lib\\site-packages (from matplotlib) (3.2.1)\n",
      "Requirement already satisfied: python-dateutil>=2.7 in c:\\users\\mutay\\appdata\\local\\programs\\python\\python313\\lib\\site-packages (from matplotlib) (2.9.0.post0)\n",
      "Requirement already satisfied: six>=1.5 in c:\\users\\mutay\\appdata\\local\\programs\\python\\python313\\lib\\site-packages (from python-dateutil>=2.7->matplotlib) (1.17.0)\n",
      "Requirement already satisfied: scikit-learn in c:\\users\\mutay\\appdata\\local\\programs\\python\\python313\\lib\\site-packages (1.6.1)\n",
      "Requirement already satisfied: numpy>=1.19.5 in c:\\users\\mutay\\appdata\\local\\programs\\python\\python313\\lib\\site-packages (from scikit-learn) (2.2.4)\n",
      "Requirement already satisfied: scipy>=1.6.0 in c:\\users\\mutay\\appdata\\local\\programs\\python\\python313\\lib\\site-packages (from scikit-learn) (1.15.2)\n",
      "Requirement already satisfied: joblib>=1.2.0 in c:\\users\\mutay\\appdata\\local\\programs\\python\\python313\\lib\\site-packages (from scikit-learn) (1.4.2)\n",
      "Requirement already satisfied: threadpoolctl>=3.1.0 in c:\\users\\mutay\\appdata\\local\\programs\\python\\python313\\lib\\site-packages (from scikit-learn) (3.6.0)\n"
     ]
    }
   ],
   "source": [
    "!pip install seaborn  \n",
    "!pip install pandas\n",
    "!pip install numpy\n",
    "!pip install  matplotlib\n",
    "!pip install scikit-learn"
   ]
  },
  {
   "cell_type": "code",
   "execution_count": null,
   "id": "7500a519-7e45-42f6-8c0f-33c13cac83eb",
   "metadata": {},
   "outputs": [],
   "source": [
    "def warn(*args, **kwargs):\n",
    "    pass\n",
    "\n",
    "\n",
    "import warnings\n",
    "\n",
    "warnings.warn = warn"
   ]
  },
  {
   "cell_type": "code",
   "execution_count": 3,
   "id": "6a650785-6dd0-44fe-b737-a000f8b97a3e",
   "metadata": {},
   "outputs": [],
   "source": [
    "import seaborn as sns, pandas as pd, numpy as np"
   ]
  },
  {
   "cell_type": "markdown",
   "id": "0d31edc2-cbee-4b1a-9634-75edd142e31e",
   "metadata": {},
   "source": [
    "## Question 1\n",
    "\n",
    "Import the data and do the following:\n",
    "\n",
    "* Examine the data types--there are many columns, so it might be wise to use value counts.\n",
    "* Determine if the floating point values need to be scaled.\n",
    "* Determine the breakdown of each activity.\n",
    "* Encode the activity label as an integer.\n"
   ]
  },
  {
   "cell_type": "code",
   "execution_count": null,
   "id": "80572ef4-180e-465c-b5a8-9a8d513fe276",
   "metadata": {},
   "outputs": [],
   "source": [
    "### BEGIN SOLUTION\n",
    "data = pd.read_csv(\n",
    "    \"https://cf-courses-data.s3.us.cloud-object-storage.appdomain.cloud/IBM-ML241EN-SkillsNetwork/labs/datasets/Human_Activity_Recognition_Using_Smartphones_Data.csv\",\n",
    "    sep=\",\",\n",
    ")"
   ]
  },
  {
   "cell_type": "markdown",
   "id": "6143ae98-68e0-447d-bccf-6b8fc469510c",
   "metadata": {},
   "source": [
    "The data columns are all floats except for the activity label.\n"
   ]
  },
  {
   "cell_type": "code",
   "execution_count": 5,
   "id": "3ebd45f3-b9e7-4de4-ab50-33190dc52f19",
   "metadata": {},
   "outputs": [
    {
     "data": {
      "text/plain": [
       "float64    561\n",
       "object       1\n",
       "Name: count, dtype: int64"
      ]
     },
     "execution_count": 5,
     "metadata": {},
     "output_type": "execute_result"
    }
   ],
   "source": [
    "data.dtypes.value_counts()"
   ]
  },
  {
   "cell_type": "code",
   "execution_count": 6,
   "id": "b622d61d-162f-405a-8442-cd8887322393",
   "metadata": {},
   "outputs": [
    {
     "data": {
      "text/plain": [
       "angle(tBodyGyroJerkMean,gravityMean)    float64\n",
       "angle(X,gravityMean)                    float64\n",
       "angle(Y,gravityMean)                    float64\n",
       "angle(Z,gravityMean)                    float64\n",
       "Activity                                 object\n",
       "dtype: object"
      ]
     },
     "execution_count": 6,
     "metadata": {},
     "output_type": "execute_result"
    }
   ],
   "source": [
    "data.dtypes.tail()"
   ]
  },
  {
   "cell_type": "markdown",
   "id": "a2a02e78-d20c-406e-899d-35c153b5f5dc",
   "metadata": {},
   "source": [
    "The data are all scaled from -1 (minimum) to 1.0 (maximum).\n"
   ]
  },
  {
   "cell_type": "code",
   "execution_count": 7,
   "id": "b2c6a05a-6747-4cf9-8bfc-3c8aba94881a",
   "metadata": {},
   "outputs": [
    {
     "data": {
      "text/plain": [
       "-1.0    561\n",
       "Name: count, dtype: int64"
      ]
     },
     "execution_count": 7,
     "metadata": {},
     "output_type": "execute_result"
    }
   ],
   "source": [
    "data.iloc[:, :-1].min().value_counts()"
   ]
  },
  {
   "cell_type": "code",
   "execution_count": 8,
   "id": "ef44fd25-8ea1-4848-9d92-1b3782072ab7",
   "metadata": {},
   "outputs": [
    {
     "data": {
      "text/plain": [
       "1.0    561\n",
       "Name: count, dtype: int64"
      ]
     },
     "execution_count": 8,
     "metadata": {},
     "output_type": "execute_result"
    }
   ],
   "source": [
    "data.iloc[:, :-1].max().value_counts()"
   ]
  },
  {
   "cell_type": "markdown",
   "id": "b3c44b8c-70b4-4f2f-be9f-1c5b9b727b05",
   "metadata": {},
   "source": [
    "Examine the breakdown of activities; they are relatively balanced.\n"
   ]
  },
  {
   "cell_type": "code",
   "execution_count": 9,
   "id": "319e4dfb-3284-4cc2-a202-ed63736dfb01",
   "metadata": {},
   "outputs": [
    {
     "data": {
      "text/plain": [
       "Activity\n",
       "LAYING                1944\n",
       "STANDING              1906\n",
       "SITTING               1777\n",
       "WALKING               1722\n",
       "WALKING_UPSTAIRS      1544\n",
       "WALKING_DOWNSTAIRS    1406\n",
       "Name: count, dtype: int64"
      ]
     },
     "execution_count": 9,
     "metadata": {},
     "output_type": "execute_result"
    }
   ],
   "source": [
    "data.Activity.value_counts()"
   ]
  },
  {
   "cell_type": "markdown",
   "id": "f991b67d-1668-49f4-ad08-e9231df1f5fd",
   "metadata": {},
   "source": [
    "Scikit learn classifiers won't accept a sparse matrix for the prediction column. Thus, either `LabelEncoder` needs to be used to convert the activity labels to integers, or if `DictVectorizer` is used, the resulting matrix must be converted to a non-sparse array.  \n",
    "Use `LabelEncoder` to fit_transform the \"Activity\" column, and look at 5 random values.\n"
   ]
  },
  {
   "cell_type": "code",
   "execution_count": null,
   "id": "b141d836-9798-4cb0-9b7c-bc298b094dd4",
   "metadata": {},
   "outputs": [
    {
     "data": {
      "text/plain": [
       "9836    0\n",
       "1446    4\n",
       "7199    2\n",
       "6142    0\n",
       "1762    2\n",
       "Name: Activity, dtype: int64"
      ]
     },
     "execution_count": 10,
     "metadata": {},
     "output_type": "execute_result"
    }
   ],
   "source": [
    "from sklearn.preprocessing import LabelEncoder\n",
    "\n",
    "le = LabelEncoder()\n",
    "data[\"Activity\"] = le.fit_transform(data.Activity)\n",
    "data[\"Activity\"].sample(5)\n",
    "### END SOLUTION"
   ]
  },
  {
   "cell_type": "markdown",
   "id": "e6ff9222-961e-4570-9a2f-e4970d6ef226",
   "metadata": {},
   "source": [
    "## Question 2\n",
    "\n",
    "* Calculate the correlations between the dependent variables.\n",
    "* Create a histogram of the correlation values.\n",
    "* Identify those that are most correlated (either positively or negatively).\n"
   ]
  },
  {
   "cell_type": "code",
   "execution_count": null,
   "id": "190d9513-67d6-405f-ad9f-8c075af15dfb",
   "metadata": {},
   "outputs": [],
   "source": [
    "### BEGIN SOLUTION\n",
    "# Calculate the correlation values\n",
    "feature_cols = data.columns[:-1]\n",
    "corr_values = data[feature_cols].corr()\n",
    "\n",
    "# Simplify by emptying all the data below the diagonal\n",
    "tril_index = np.tril_indices_from(corr_values)\n",
    "\n",
    "# Make the unused values NaNs\n",
    "for coord in zip(*tril_index):\n",
    "    corr_values.iloc[coord[0], coord[1]] = np.nan\n",
    "\n",
    "# Stack the data and convert to a data frame\n",
    "corr_values = (\n",
    "    corr_values.stack()\n",
    "    .to_frame()\n",
    "    .reset_index()\n",
    "    .rename(columns={\"level_0\": \"feature1\", \"level_1\": \"feature2\", 0: \"correlation\"})\n",
    ")\n",
    "\n",
    "# Get the absolute values for sorting\n",
    "corr_values[\"abs_correlation\"] = corr_values.correlation.abs()"
   ]
  },
  {
   "cell_type": "markdown",
   "id": "0bae03dc-63d4-4b12-b1e9-e9a3f54ab44e",
   "metadata": {},
   "source": [
    "A histogram of the absolute value correlations.\n"
   ]
  },
  {
   "cell_type": "code",
   "execution_count": null,
   "id": "bbc5b722-3020-4452-ada2-57e3981996d3",
   "metadata": {},
   "outputs": [],
   "source": [
    "import matplotlib.pyplot as plt\n",
    "import seaborn as sns\n",
    "\n",
    "%matplotlib inline"
   ]
  },
  {
   "cell_type": "code",
   "execution_count": null,
   "id": "066e45f0-d5b4-420b-abcb-811565ee6c36",
   "metadata": {},
   "outputs": [
    {
     "data": {
      "image/png": "[encoded data removed]",
      "text/plain": [
       "<Figure size 1200x800 with 1 Axes>"
      ]
     },
     "metadata": {},
     "output_type": "display_data"
    }
   ],
   "source": [
    "sns.set_context(\"talk\")\n",
    "sns.set_style(\"white\")\n",
    "\n",
    "ax = corr_values.abs_correlation.hist(bins=50, figsize=(12, 8))\n",
    "ax.set(xlabel=\"Absolute Correlation\", ylabel=\"Frequency\");"
   ]
  },
  {
   "cell_type": "code",
   "execution_count": null,
   "id": "536f8297-03fa-48b3-a9c0-8d68cfeeccdd",
   "metadata": {},
   "outputs": [
    {
     "data": {
      "application/vnd.microsoft.datawrangler.viewer.v0+json": {
       "columns": [
        {
         "name": "index",
         "rawType": "int64",
         "type": "integer"
        },
        {
         "name": "feature1",
         "rawType": "object",
         "type": "string"
        },
        {
         "name": "feature2",
         "rawType": "object",
         "type": "string"
        },
        {
         "name": "correlation",
         "rawType": "float64",
         "type": "float"
        },
        {
         "name": "abs_correlation",
         "rawType": "float64",
         "type": "float"
        }
       ],
       "conversionMethod": "pd.DataFrame",
       "ref": "95b2f87c-3296-4755-b4fc-7c63d4bacf0c",
       "rows": [
        [
         "156894",
         "fBodyBodyGyroJerkMag-mean()",
         "fBodyBodyGyroJerkMag-sma()",
         "1.0",
         "1.0"
        ],
        [
         "156556",
         "fBodyBodyGyroMag-mean()",
         "fBodyBodyGyroMag-sma()",
         "1.0",
         "1.0"
        ],
        [
         "96706",
         "tGravityAccMag-mean()",
         "tGravityAccMag-sma()",
         "1.0",
         "1.0"
        ],
        [
         "96366",
         "tBodyAccMag-arCoeff()4",
         "tGravityAccMag-arCoeff()4",
         "1.0",
         "1.0"
        ],
        [
         "109498",
         "tBodyGyroJerkMag-mean()",
         "tBodyGyroJerkMag-sma()",
         "1.0",
         "1.0"
        ],
        [
         "105403",
         "tBodyGyroMag-mean()",
         "tBodyGyroMag-sma()",
         "1.0",
         "1.0"
        ],
        [
         "92831",
         "tBodyAccMag-mad()",
         "tGravityAccMag-mad()",
         "1.0",
         "1.0"
        ],
        [
         "95316",
         "tBodyAccMag-arCoeff()1",
         "tGravityAccMag-arCoeff()1",
         "1.0",
         "1.0"
        ],
        [
         "95667",
         "tBodyAccMag-arCoeff()2",
         "tGravityAccMag-arCoeff()2",
         "1.0",
         "1.0"
        ],
        [
         "96017",
         "tBodyAccMag-arCoeff()3",
         "tGravityAccMag-arCoeff()3",
         "1.0",
         "1.0"
        ],
        [
         "94611",
         "tBodyAccMag-iqr()",
         "tGravityAccMag-iqr()",
         "1.0",
         "1.0"
        ],
        [
         "92112",
         "tBodyAccMag-mean()",
         "tGravityAccMag-mean()",
         "1.0",
         "1.0"
        ],
        [
         "92472",
         "tBodyAccMag-std()",
         "tGravityAccMag-std()",
         "1.0",
         "1.0"
        ],
        [
         "94257",
         "tBodyAccMag-energy()",
         "tGravityAccMag-energy()",
         "1.0",
         "1.0"
        ],
        [
         "92117",
         "tBodyAccMag-mean()",
         "tGravityAccMag-sma()",
         "1.0",
         "1.0"
        ],
        [
         "92104",
         "tBodyAccMag-mean()",
         "tBodyAccMag-sma()",
         "1.0",
         "1.0"
        ],
        [
         "156049",
         "fBodyBodyAccJerkMag-mean()",
         "fBodyBodyAccJerkMag-sma()",
         "1.0",
         "1.0"
        ],
        [
         "94964",
         "tBodyAccMag-entropy()",
         "tGravityAccMag-entropy()",
         "1.0",
         "1.0"
        ],
        [
         "101139",
         "tBodyAccJerkMag-mean()",
         "tBodyAccJerkMag-sma()",
         "1.0",
         "1.0"
        ],
        [
         "93546",
         "tBodyAccMag-min()",
         "tGravityAccMag-min()",
         "1.0",
         "1.0"
        ],
        [
         "93897",
         "tBodyAccMag-sma()",
         "tGravityAccMag-mean()",
         "1.0",
         "1.0"
        ],
        [
         "93902",
         "tBodyAccMag-sma()",
         "tGravityAccMag-sma()",
         "1.0",
         "1.0"
        ],
        [
         "93189",
         "tBodyAccMag-max()",
         "tGravityAccMag-max()",
         "1.0",
         "1.0"
        ],
        [
         "155373",
         "fBodyAccMag-mean()",
         "fBodyAccMag-sma()",
         "1.0",
         "1.0"
        ],
        [
         "50390",
         "tBodyAccJerk-energy()-Z",
         "fBodyAccJerk-energy()-Z",
         "0.9999997475102641",
         "0.9999997475102641"
        ],
        [
         "49927",
         "tBodyAccJerk-energy()-Y",
         "fBodyAccJerk-energy()-Y",
         "0.9999996745588684",
         "0.9999996745588684"
        ],
        [
         "49463",
         "tBodyAccJerk-energy()-X",
         "fBodyAccJerk-energy()-X",
         "0.9999994145585476",
         "0.9999994145585476"
        ],
        [
         "118052",
         "fBodyAcc-energy()-X",
         "fBodyAcc-bandsEnergy()-1,24",
         "0.999863794003727",
         "0.999863794003727"
        ],
        [
         "149731",
         "fBodyGyro-energy()-X",
         "fBodyGyro-bandsEnergy()-1,24",
         "0.9997725476913936",
         "0.9997725476913936"
        ],
        [
         "118344",
         "fBodyAcc-energy()-Y",
         "fBodyAcc-bandsEnergy()-1,24.1",
         "0.9996347594287623",
         "0.9996347594287623"
        ],
        [
         "9104",
         "tBodyAcc-energy()-X",
         "fBodyAcc-energy()-X",
         "0.9996332057778868",
         "0.9996332057778868"
        ],
        [
         "48865",
         "tBodyAccJerk-sma()",
         "tBodyAccJerkMag-mean()",
         "0.9996154566492467",
         "0.9996154566492467"
        ],
        [
         "48870",
         "tBodyAccJerk-sma()",
         "tBodyAccJerkMag-sma()",
         "0.9996154566492467",
         "0.9996154566492467"
        ],
        [
         "9137",
         "tBodyAcc-energy()-X",
         "fBodyAcc-bandsEnergy()-1,24",
         "0.9995138471307344",
         "0.9995138471307344"
        ],
        [
         "149998",
         "fBodyGyro-energy()-Z",
         "fBodyGyro-bandsEnergy()-1,24.2",
         "0.9994856779898108",
         "0.9994856779898108"
        ],
        [
         "66658",
         "tBodyGyro-sma()",
         "tBodyGyroMag-mean()",
         "0.9992261191174909",
         "0.9992261191174909"
        ],
        [
         "66663",
         "tBodyGyro-sma()",
         "tBodyGyroMag-sma()",
         "0.9992261191174909",
         "0.9992261191174909"
        ],
        [
         "8479",
         "tBodyAcc-sma()",
         "tBodyAccMag-mean()",
         "0.9991290544596485",
         "0.9991290544596485"
        ],
        [
         "8492",
         "tBodyAcc-sma()",
         "tGravityAccMag-mean()",
         "0.9991290544596485",
         "0.9991290544596485"
        ],
        [
         "8484",
         "tBodyAcc-sma()",
         "tBodyAccMag-sma()",
         "0.9991290544596485",
         "0.9991290544596485"
        ],
        [
         "8497",
         "tBodyAcc-sma()",
         "tGravityAccMag-sma()",
         "0.9991290544596485",
         "0.9991290544596485"
        ],
        [
         "21631",
         "tGravityAcc-mean()-X",
         "tGravityAcc-min()-X",
         "0.9990209816565002",
         "0.9990209816565002"
        ],
        [
         "67706",
         "tBodyGyro-energy()-Y",
         "fBodyGyro-energy()-Y",
         "0.9990008461378084",
         "0.9990008461378084"
        ],
        [
         "82856",
         "tBodyGyroJerk-sma()",
         "tBodyGyroJerkMag-sma()",
         "0.9989857056695447",
         "0.9989857056695447"
        ],
        [
         "82851",
         "tBodyGyroJerk-sma()",
         "tBodyGyroJerkMag-mean()",
         "0.9989857056695447",
         "0.9989857056695447"
        ],
        [
         "152805",
         "fBodyGyro-bandsEnergy()-1,16",
         "fBodyGyro-bandsEnergy()-1,24",
         "0.9989660955133256",
         "0.9989660955133256"
        ],
        [
         "118635",
         "fBodyAcc-energy()-Z",
         "fBodyAcc-bandsEnergy()-1,24.2",
         "0.9989202946121701",
         "0.9989202946121701"
        ],
        [
         "125708",
         "fBodyAcc-bandsEnergy()-1,16",
         "fBodyAcc-bandsEnergy()-1,24",
         "0.9989016509651129",
         "0.9989016509651129"
        ],
        [
         "1679",
         "tBodyAcc-std()-X",
         "tBodyAcc-mad()-X",
         "0.9986617627347121",
         "0.9986617627347121"
        ],
        [
         "23696",
         "tGravityAcc-std()-Y",
         "tGravityAcc-mad()-Y",
         "0.9985609615091896",
         "0.9985609615091896"
        ]
       ],
       "shape": {
        "columns": 4,
        "rows": 22815
       }
      },
      "text/html": [
       "<div>\n",
       "<style scoped>\n",
       "    .dataframe tbody tr th:only-of-type {\n",
       "        vertical-align: middle;\n",
       "    }\n",
       "\n",
       "    .dataframe tbody tr th {\n",
       "        vertical-align: top;\n",
       "    }\n",
       "\n",
       "    .dataframe thead th {\n",
       "        text-align: right;\n",
       "    }\n",
       "</style>\n",
       "<table border=\"1\" class=\"dataframe\">\n",
       "  <thead>\n",
       "    <tr style=\"text-align: right;\">\n",
       "      <th></th>\n",
       "      <th>feature1</th>\n",
       "      <th>feature2</th>\n",
       "      <th>correlation</th>\n",
       "      <th>abs_correlation</th>\n",
       "    </tr>\n",
       "  </thead>\n",
       "  <tbody>\n",
       "    <tr>\n",
       "      <th>156894</th>\n",
       "      <td>fBodyBodyGyroJerkMag-mean()</td>\n",
       "      <td>fBodyBodyGyroJerkMag-sma()</td>\n",
       "      <td>1.000000</td>\n",
       "      <td>1.000000</td>\n",
       "    </tr>\n",
       "    <tr>\n",
       "      <th>156556</th>\n",
       "      <td>fBodyBodyGyroMag-mean()</td>\n",
       "      <td>fBodyBodyGyroMag-sma()</td>\n",
       "      <td>1.000000</td>\n",
       "      <td>1.000000</td>\n",
       "    </tr>\n",
       "    <tr>\n",
       "      <th>96706</th>\n",
       "      <td>tGravityAccMag-mean()</td>\n",
       "      <td>tGravityAccMag-sma()</td>\n",
       "      <td>1.000000</td>\n",
       "      <td>1.000000</td>\n",
       "    </tr>\n",
       "    <tr>\n",
       "      <th>96366</th>\n",
       "      <td>tBodyAccMag-arCoeff()4</td>\n",
       "      <td>tGravityAccMag-arCoeff()4</td>\n",
       "      <td>1.000000</td>\n",
       "      <td>1.000000</td>\n",
       "    </tr>\n",
       "    <tr>\n",
       "      <th>109498</th>\n",
       "      <td>tBodyGyroJerkMag-mean()</td>\n",
       "      <td>tBodyGyroJerkMag-sma()</td>\n",
       "      <td>1.000000</td>\n",
       "      <td>1.000000</td>\n",
       "    </tr>\n",
       "    <tr>\n",
       "      <th>...</th>\n",
       "      <td>...</td>\n",
       "      <td>...</td>\n",
       "      <td>...</td>\n",
       "      <td>...</td>\n",
       "    </tr>\n",
       "    <tr>\n",
       "      <th>22657</th>\n",
       "      <td>tGravityAcc-mean()-Y</td>\n",
       "      <td>angle(Y,gravityMean)</td>\n",
       "      <td>-0.993425</td>\n",
       "      <td>0.993425</td>\n",
       "    </tr>\n",
       "    <tr>\n",
       "      <th>39225</th>\n",
       "      <td>tGravityAcc-arCoeff()-Z,3</td>\n",
       "      <td>tGravityAcc-arCoeff()-Z,4</td>\n",
       "      <td>-0.994267</td>\n",
       "      <td>0.994267</td>\n",
       "    </tr>\n",
       "    <tr>\n",
       "      <th>38739</th>\n",
       "      <td>tGravityAcc-arCoeff()-Z,2</td>\n",
       "      <td>tGravityAcc-arCoeff()-Z,3</td>\n",
       "      <td>-0.994628</td>\n",
       "      <td>0.994628</td>\n",
       "    </tr>\n",
       "    <tr>\n",
       "      <th>23176</th>\n",
       "      <td>tGravityAcc-mean()-Z</td>\n",
       "      <td>angle(Z,gravityMean)</td>\n",
       "      <td>-0.994764</td>\n",
       "      <td>0.994764</td>\n",
       "    </tr>\n",
       "    <tr>\n",
       "      <th>38252</th>\n",
       "      <td>tGravityAcc-arCoeff()-Z,1</td>\n",
       "      <td>tGravityAcc-arCoeff()-Z,2</td>\n",
       "      <td>-0.995195</td>\n",
       "      <td>0.995195</td>\n",
       "    </tr>\n",
       "  </tbody>\n",
       "</table>\n",
       "<p>22815 rows × 4 columns</p>\n",
       "</div>"
      ],
      "text/plain": [
       "                           feature1                    feature2  correlation  \\\n",
       "156894  fBodyBodyGyroJerkMag-mean()  fBodyBodyGyroJerkMag-sma()     1.000000   \n",
       "156556      fBodyBodyGyroMag-mean()      fBodyBodyGyroMag-sma()     1.000000   \n",
       "96706         tGravityAccMag-mean()        tGravityAccMag-sma()     1.000000   \n",
       "96366        tBodyAccMag-arCoeff()4   tGravityAccMag-arCoeff()4     1.000000   \n",
       "109498      tBodyGyroJerkMag-mean()      tBodyGyroJerkMag-sma()     1.000000   \n",
       "...                             ...                         ...          ...   \n",
       "22657          tGravityAcc-mean()-Y        angle(Y,gravityMean)    -0.993425   \n",
       "39225     tGravityAcc-arCoeff()-Z,3   tGravityAcc-arCoeff()-Z,4    -0.994267   \n",
       "38739     tGravityAcc-arCoeff()-Z,2   tGravityAcc-arCoeff()-Z,3    -0.994628   \n",
       "23176          tGravityAcc-mean()-Z        angle(Z,gravityMean)    -0.994764   \n",
       "38252     tGravityAcc-arCoeff()-Z,1   tGravityAcc-arCoeff()-Z,2    -0.995195   \n",
       "\n",
       "        abs_correlation  \n",
       "156894         1.000000  \n",
       "156556         1.000000  \n",
       "96706          1.000000  \n",
       "96366          1.000000  \n",
       "109498         1.000000  \n",
       "...                 ...  \n",
       "22657          0.993425  \n",
       "39225          0.994267  \n",
       "38739          0.994628  \n",
       "23176          0.994764  \n",
       "38252          0.995195  \n",
       "\n",
       "[22815 rows x 4 columns]"
      ]
     },
     "execution_count": 15,
     "metadata": {},
     "output_type": "execute_result"
    }
   ],
   "source": [
    "# The most highly correlated values\n",
    "corr_values.sort_values(\"correlation\", ascending=False).query(\"abs_correlation>0.8\")\n",
    "### END SOLUTION"
   ]
  },
  {
   "cell_type": "markdown",
   "id": "b9081cdc-84a8-453e-9fb5-f96beafa4695",
   "metadata": {},
   "source": [
    "## Question 3\n",
    "\n",
    "* Split the data into train and test data sets. This can be done using any method, but consider using Scikit-learn's `StratifiedShuffleSplit` to maintain the same ratio of predictor classes.\n",
    "* Regardless of the method used to split the data, compare the ratio of classes in both the train and test splits.\n"
   ]
  },
  {
   "cell_type": "code",
   "execution_count": null,
   "id": "72503e40-f74e-43d0-99f7-da9cc2f3e2c3",
   "metadata": {},
   "outputs": [],
   "source": [
    "### BEGIN SOLUTION\n",
    "from sklearn.model_selection import StratifiedShuffleSplit\n",
    "\n",
    "# Get the split indexes\n",
    "strat_shuf_split = StratifiedShuffleSplit(n_splits=1, test_size=0.3, random_state=42)\n",
    "\n",
    "train_idx, test_idx = next(strat_shuf_split.split(data[feature_cols], data.Activity))\n",
    "\n",
    "# Create the dataframes\n",
    "X_train = data.loc[train_idx, feature_cols]\n",
    "y_train = data.loc[train_idx, \"Activity\"]\n",
    "\n",
    "X_test = data.loc[test_idx, feature_cols]\n",
    "y_test = data.loc[test_idx, \"Activity\"]"
   ]
  },
  {
   "cell_type": "code",
   "execution_count": 17,
   "id": "e4f51d68-3427-4c99-ae2f-02ce679ff8d6",
   "metadata": {},
   "outputs": [
    {
     "data": {
      "text/plain": [
       "Activity\n",
       "0    0.188792\n",
       "2    0.185046\n",
       "1    0.172562\n",
       "3    0.167152\n",
       "5    0.149951\n",
       "4    0.136496\n",
       "Name: proportion, dtype: float64"
      ]
     },
     "execution_count": 17,
     "metadata": {},
     "output_type": "execute_result"
    }
   ],
   "source": [
    "y_train.value_counts(normalize=True)"
   ]
  },
  {
   "cell_type": "code",
   "execution_count": 18,
   "id": "202de9a0-393c-451e-823e-feb46e9b82f1",
   "metadata": {},
   "outputs": [
    {
     "data": {
      "text/plain": [
       "Activity\n",
       "0    0.188673\n",
       "2    0.185113\n",
       "1    0.172492\n",
       "3    0.167314\n",
       "5    0.149838\n",
       "4    0.136570\n",
       "Name: proportion, dtype: float64"
      ]
     },
     "execution_count": 18,
     "metadata": {},
     "output_type": "execute_result"
    }
   ],
   "source": [
    "y_test.value_counts(normalize=True)\n",
    "### END SOLUTION"
   ]
  },
  {
   "cell_type": "markdown",
   "id": "de52ae3a-7db6-4649-8751-34d547459b07",
   "metadata": {},
   "source": [
    "## Question 4\n",
    "\n",
    "* Fit a logistic regression model without any regularization using all of the features. Be sure to read the documentation about fitting a multi-class model so you understand the coefficient output. Store the model.\n",
    "* Using cross validation to determine the hyperparameters and fit models using L1 and L2 regularization. Store each of these models as well. Note the limitations on multi-class models, solvers, and regularizations. The regularized models, in particular the L1 model, will probably take a while to fit.\n"
   ]
  },
  {
   "cell_type": "code",
   "execution_count": null,
   "id": "97a66223-4449-4f9c-a1cd-2cb13446ae7c",
   "metadata": {},
   "outputs": [],
   "source": [
    "### BEGIN SOLUTION\n",
    "from sklearn.linear_model import LogisticRegression\n",
    "\n",
    "# Standard logistic regression\n",
    "lr = LogisticRegression(solver=\"liblinear\").fit(X_train, y_train)"
   ]
  },
  {
   "cell_type": "code",
   "execution_count": null,
   "id": "18c91c4d-c703-469c-8508-febc2617df12",
   "metadata": {},
   "outputs": [],
   "source": [
    "from sklearn.linear_model import LogisticRegressionCV\n",
    "\n",
    "# L1 regularized logistic regression\n",
    "lr_l1 = LogisticRegressionCV(Cs=10, cv=4, penalty=\"l1\", solver=\"liblinear\").fit(\n",
    "    X_train, y_train\n",
    ")"
   ]
  },
  {
   "cell_type": "code",
   "execution_count": null,
   "id": "976605e2-0ec6-4075-a724-d813d155e035",
   "metadata": {},
   "outputs": [],
   "source": [
    "# L2 regularized logistic regression\n",
    "lr_l2 = LogisticRegressionCV(Cs=10, cv=4, penalty=\"l2\", solver=\"liblinear\").fit(\n",
    "    X_train, y_train\n",
    ")\n",
    "### END SOLUTION"
   ]
  },
  {
   "cell_type": "markdown",
   "id": "b385b35d-dc8d-4362-9a88-9a46943b0794",
   "metadata": {},
   "source": [
    "## Question 5\n",
    "\n",
    "* Compare the magnitudes of the coefficients for each of the models. If one-vs-rest fitting was used, each set of coefficients can be plotted separately. \n"
   ]
  },
  {
   "cell_type": "code",
   "execution_count": null,
   "id": "c3ede455-7a3a-46ed-a356-bf47648e4109",
   "metadata": {},
   "outputs": [
    {
     "data": {
      "application/vnd.microsoft.datawrangler.viewer.v0+json": {
       "columns": [
        {
         "name": "index",
         "rawType": "int64",
         "type": "integer"
        },
        {
         "name": "('lr', 0)",
         "rawType": "float64",
         "type": "float"
        },
        {
         "name": "('lr', 1)",
         "rawType": "float64",
         "type": "float"
        },
        {
         "name": "('lr', 2)",
         "rawType": "float64",
         "type": "float"
        },
        {
         "name": "('lr', 3)",
         "rawType": "float64",
         "type": "float"
        },
        {
         "name": "('lr', 4)",
         "rawType": "float64",
         "type": "float"
        },
        {
         "name": "('lr', 5)",
         "rawType": "float64",
         "type": "float"
        },
        {
         "name": "('l1', 0)",
         "rawType": "float64",
         "type": "float"
        },
        {
         "name": "('l1', 1)",
         "rawType": "float64",
         "type": "float"
        },
        {
         "name": "('l1', 2)",
         "rawType": "float64",
         "type": "float"
        },
        {
         "name": "('l1', 3)",
         "rawType": "float64",
         "type": "float"
        },
        {
         "name": "('l1', 4)",
         "rawType": "float64",
         "type": "float"
        },
        {
         "name": "('l1', 5)",
         "rawType": "float64",
         "type": "float"
        },
        {
         "name": "('l2', 0)",
         "rawType": "float64",
         "type": "float"
        },
        {
         "name": "('l2', 1)",
         "rawType": "float64",
         "type": "float"
        },
        {
         "name": "('l2', 2)",
         "rawType": "float64",
         "type": "float"
        },
        {
         "name": "('l2', 3)",
         "rawType": "float64",
         "type": "float"
        },
        {
         "name": "('l2', 4)",
         "rawType": "float64",
         "type": "float"
        },
        {
         "name": "('l2', 5)",
         "rawType": "float64",
         "type": "float"
        }
       ],
       "conversionMethod": "pd.DataFrame",
       "ref": "4b1f3cf4-0443-4283-b3db-0e11d10df9a3",
       "rows": [
        [
         "250",
         "-0.007394607203818071",
         "0.3276838258042173",
         "-0.1650992456320555",
         "0.25597388871295457",
         "-0.09137423248597676",
         "-0.29058438520609065",
         "0.0",
         "0.6968069729468792",
         "-0.7662849754051392",
         "0.0",
         "-0.742658957651103",
         "-0.14245609782195984",
         "-0.03361533098018751",
         "1.1267974755988093",
         "-1.611902904426079",
         "0.8525664545820467",
         "-0.41973881930035273",
         "-1.0104987886365973"
        ],
        [
         "178",
         "-0.010324122728139802",
         "0.17860271568538053",
         "0.19357124199289635",
         "0.06736139662153168",
         "0.19583517331191952",
         "0.022601461503867746",
         "-0.04746195869738963",
         "0.0",
         "0.0",
         "0.0",
         "0.06658753233929171",
         "0.0",
         "-0.03822407568455808",
         "0.3644206598253896",
         "0.3041731994976412",
         "0.21432122029748057",
         "0.4356255103894529",
         "0.10861450745045342"
        ],
        [
         "349",
         "-0.029104881617543658",
         "0.06865575584601308",
         "-0.2247511990121045",
         "0.2534586213023569",
         "0.1177878609750037",
         "-0.33129492585729625",
         "0.0",
         "0.0",
         "0.0",
         "0.0",
         "0.01257086473533589",
         "-0.34291981975058844",
         "-0.05525643242175007",
         "0.38186137447695767",
         "-0.7961908971143052",
         "0.6581972650157661",
         "0.19846499623078737",
         "-1.275924984276739"
        ],
        [
         "539",
         "-0.030195191712161562",
         "-0.2602527522776719",
         "0.14175805061837396",
         "0.31819211030120315",
         "-0.5583499141144875",
         "-0.1859840311518684",
         "0.0",
         "-0.6753408874206828",
         "0.4191776730427526",
         "0.6702076321049724",
         "-1.4655946507451483",
         "0.0",
         "-0.15964407453245444",
         "-2.5602098315901074",
         "2.353587768000441",
         "0.8103065311063167",
         "-1.3726803882238332",
         "0.26104725463700984"
        ],
        [
         "43",
         "0.17650723466589813",
         "0.19209645094023356",
         "0.46328772931663803",
         "0.21342783493404296",
         "-0.40060391106247195",
         "-0.0951640942417148",
         "0.0",
         "0.00588405946097779",
         "1.006266415786524",
         "0.0",
         "-0.28574573097135486",
         "0.0876297748759585",
         "0.2941957914141367",
         "0.21878671109928066",
         "2.363788998437139",
         "0.6749140005440405",
         "-0.9247977564252663",
         "-1.1623570556984752"
        ],
        [
         "217",
         "-0.022678905265013413",
         "-0.01909443201925216",
         "0.04111494687465406",
         "0.5092792952770295",
         "-0.10608200526710242",
         "0.35507161960687755",
         "0.0",
         "0.0",
         "0.0",
         "0.1459483653374334",
         "0.0",
         "0.7818895296369608",
         "-0.036959100986964935",
         "-0.141472562455541",
         "-0.012739721515867712",
         "1.2034052140190477",
         "0.03340190678180014",
         "1.3418737176915072"
        ],
        [
         "54",
         "0.09842408713930054",
         "0.7470685939192762",
         "-0.6613394689672518",
         "0.019307691234688062",
         "0.18657625506305725",
         "-0.33861415066363704",
         "0.0",
         "3.2026469938623316",
         "0.0",
         "0.0",
         "0.4632837680751623",
         "0.0",
         "0.030637075804534255",
         "2.240609517292408",
         "-1.2022889417497653",
         "0.1511841022844059",
         "0.38471524490033465",
         "-1.2564365251271046"
        ],
        [
         "438",
         "-0.02665707567936243",
         "-0.2799341715785727",
         "0.012144584964307965",
         "-0.15738422906351074",
         "-0.1429005397048053",
         "-0.06622789878802429",
         "0.0",
         "0.0",
         "0.0",
         "0.0",
         "-0.14696679564697665",
         "0.0",
         "-0.03732561867998783",
         "-1.2705124093213982",
         "0.5317514263121451",
         "-0.601188862010048",
         "-0.3800673497414968",
         "-0.22384909259470875"
        ],
        [
         "242",
         "0.016122856148117315",
         "-0.07878917722870185",
         "0.06198618074088309",
         "-0.7310685112512769",
         "0.46425072068157197",
         "-0.06951805535475435",
         "0.0",
         "0.0",
         "0.0",
         "-0.995464375462803",
         "1.1287865974943037",
         "-0.05126464322977854",
         "0.04024731305543759",
         "-0.38698708012269467",
         "-0.15099191727683342",
         "-2.1442499609102756",
         "0.9398968941237611",
         "-0.7226944181725827"
        ],
        [
         "127",
         "-0.03935259054727422",
         "-0.10523114771894314",
         "-0.21187893822721782",
         "0.41394456575692923",
         "-0.33867300244811044",
         "0.07960983730145056",
         "0.0",
         "0.0",
         "0.0",
         "0.13209597812853274",
         "-0.8069262455850408",
         "0.0",
         "-0.06086831435488226",
         "-0.1530394834367196",
         "-0.43771121693769083",
         "0.9719964963003569",
         "-0.6405325778129731",
         "0.07623510811053415"
        ]
       ],
       "shape": {
        "columns": 18,
        "rows": 10
       }
      },
      "text/html": [
       "<div>\n",
       "<style scoped>\n",
       "    .dataframe tbody tr th:only-of-type {\n",
       "        vertical-align: middle;\n",
       "    }\n",
       "\n",
       "    .dataframe tbody tr th {\n",
       "        vertical-align: top;\n",
       "    }\n",
       "\n",
       "    .dataframe thead tr th {\n",
       "        text-align: left;\n",
       "    }\n",
       "</style>\n",
       "<table border=\"1\" class=\"dataframe\">\n",
       "  <thead>\n",
       "    <tr>\n",
       "      <th></th>\n",
       "      <th colspan=\"6\" halign=\"left\">lr</th>\n",
       "      <th colspan=\"6\" halign=\"left\">l1</th>\n",
       "      <th colspan=\"6\" halign=\"left\">l2</th>\n",
       "    </tr>\n",
       "    <tr>\n",
       "      <th></th>\n",
       "      <th>0</th>\n",
       "      <th>1</th>\n",
       "      <th>2</th>\n",
       "      <th>3</th>\n",
       "      <th>4</th>\n",
       "      <th>5</th>\n",
       "      <th>0</th>\n",
       "      <th>1</th>\n",
       "      <th>2</th>\n",
       "      <th>3</th>\n",
       "      <th>4</th>\n",
       "      <th>5</th>\n",
       "      <th>0</th>\n",
       "      <th>1</th>\n",
       "      <th>2</th>\n",
       "      <th>3</th>\n",
       "      <th>4</th>\n",
       "      <th>5</th>\n",
       "    </tr>\n",
       "  </thead>\n",
       "  <tbody>\n",
       "    <tr>\n",
       "      <th>250</th>\n",
       "      <td>-0.007395</td>\n",
       "      <td>0.327684</td>\n",
       "      <td>-0.165099</td>\n",
       "      <td>0.255974</td>\n",
       "      <td>-0.091374</td>\n",
       "      <td>-0.290584</td>\n",
       "      <td>0.000000</td>\n",
       "      <td>0.696807</td>\n",
       "      <td>-0.766285</td>\n",
       "      <td>0.000000</td>\n",
       "      <td>-0.742659</td>\n",
       "      <td>-0.142456</td>\n",
       "      <td>-0.033615</td>\n",
       "      <td>1.126797</td>\n",
       "      <td>-1.611903</td>\n",
       "      <td>0.852566</td>\n",
       "      <td>-0.419739</td>\n",
       "      <td>-1.010499</td>\n",
       "    </tr>\n",
       "    <tr>\n",
       "      <th>178</th>\n",
       "      <td>-0.010324</td>\n",
       "      <td>0.178603</td>\n",
       "      <td>0.193571</td>\n",
       "      <td>0.067361</td>\n",
       "      <td>0.195835</td>\n",
       "      <td>0.022601</td>\n",
       "      <td>-0.047462</td>\n",
       "      <td>0.000000</td>\n",
       "      <td>0.000000</td>\n",
       "      <td>0.000000</td>\n",
       "      <td>0.066588</td>\n",
       "      <td>0.000000</td>\n",
       "      <td>-0.038224</td>\n",
       "      <td>0.364421</td>\n",
       "      <td>0.304173</td>\n",
       "      <td>0.214321</td>\n",
       "      <td>0.435626</td>\n",
       "      <td>0.108615</td>\n",
       "    </tr>\n",
       "    <tr>\n",
       "      <th>349</th>\n",
       "      <td>-0.029105</td>\n",
       "      <td>0.068656</td>\n",
       "      <td>-0.224751</td>\n",
       "      <td>0.253459</td>\n",
       "      <td>0.117788</td>\n",
       "      <td>-0.331295</td>\n",
       "      <td>0.000000</td>\n",
       "      <td>0.000000</td>\n",
       "      <td>0.000000</td>\n",
       "      <td>0.000000</td>\n",
       "      <td>0.012571</td>\n",
       "      <td>-0.342920</td>\n",
       "      <td>-0.055256</td>\n",
       "      <td>0.381861</td>\n",
       "      <td>-0.796191</td>\n",
       "      <td>0.658197</td>\n",
       "      <td>0.198465</td>\n",
       "      <td>-1.275925</td>\n",
       "    </tr>\n",
       "    <tr>\n",
       "      <th>539</th>\n",
       "      <td>-0.030195</td>\n",
       "      <td>-0.260253</td>\n",
       "      <td>0.141758</td>\n",
       "      <td>0.318192</td>\n",
       "      <td>-0.558350</td>\n",
       "      <td>-0.185984</td>\n",
       "      <td>0.000000</td>\n",
       "      <td>-0.675341</td>\n",
       "      <td>0.419178</td>\n",
       "      <td>0.670208</td>\n",
       "      <td>-1.465595</td>\n",
       "      <td>0.000000</td>\n",
       "      <td>-0.159644</td>\n",
       "      <td>-2.560210</td>\n",
       "      <td>2.353588</td>\n",
       "      <td>0.810307</td>\n",
       "      <td>-1.372680</td>\n",
       "      <td>0.261047</td>\n",
       "    </tr>\n",
       "    <tr>\n",
       "      <th>43</th>\n",
       "      <td>0.176507</td>\n",
       "      <td>0.192096</td>\n",
       "      <td>0.463288</td>\n",
       "      <td>0.213428</td>\n",
       "      <td>-0.400604</td>\n",
       "      <td>-0.095164</td>\n",
       "      <td>0.000000</td>\n",
       "      <td>0.005884</td>\n",
       "      <td>1.006266</td>\n",
       "      <td>0.000000</td>\n",
       "      <td>-0.285746</td>\n",
       "      <td>0.087630</td>\n",
       "      <td>0.294196</td>\n",
       "      <td>0.218787</td>\n",
       "      <td>2.363789</td>\n",
       "      <td>0.674914</td>\n",
       "      <td>-0.924798</td>\n",
       "      <td>-1.162357</td>\n",
       "    </tr>\n",
       "    <tr>\n",
       "      <th>217</th>\n",
       "      <td>-0.022679</td>\n",
       "      <td>-0.019094</td>\n",
       "      <td>0.041115</td>\n",
       "      <td>0.509279</td>\n",
       "      <td>-0.106082</td>\n",
       "      <td>0.355072</td>\n",
       "      <td>0.000000</td>\n",
       "      <td>0.000000</td>\n",
       "      <td>0.000000</td>\n",
       "      <td>0.145948</td>\n",
       "      <td>0.000000</td>\n",
       "      <td>0.781890</td>\n",
       "      <td>-0.036959</td>\n",
       "      <td>-0.141473</td>\n",
       "      <td>-0.012740</td>\n",
       "      <td>1.203405</td>\n",
       "      <td>0.033402</td>\n",
       "      <td>1.341874</td>\n",
       "    </tr>\n",
       "    <tr>\n",
       "      <th>54</th>\n",
       "      <td>0.098424</td>\n",
       "      <td>0.747069</td>\n",
       "      <td>-0.661339</td>\n",
       "      <td>0.019308</td>\n",
       "      <td>0.186576</td>\n",
       "      <td>-0.338614</td>\n",
       "      <td>0.000000</td>\n",
       "      <td>3.202647</td>\n",
       "      <td>0.000000</td>\n",
       "      <td>0.000000</td>\n",
       "      <td>0.463284</td>\n",
       "      <td>0.000000</td>\n",
       "      <td>0.030637</td>\n",
       "      <td>2.240610</td>\n",
       "      <td>-1.202289</td>\n",
       "      <td>0.151184</td>\n",
       "      <td>0.384715</td>\n",
       "      <td>-1.256437</td>\n",
       "    </tr>\n",
       "    <tr>\n",
       "      <th>438</th>\n",
       "      <td>-0.026657</td>\n",
       "      <td>-0.279934</td>\n",
       "      <td>0.012145</td>\n",
       "      <td>-0.157384</td>\n",
       "      <td>-0.142901</td>\n",
       "      <td>-0.066228</td>\n",
       "      <td>0.000000</td>\n",
       "      <td>0.000000</td>\n",
       "      <td>0.000000</td>\n",
       "      <td>0.000000</td>\n",
       "      <td>-0.146967</td>\n",
       "      <td>0.000000</td>\n",
       "      <td>-0.037326</td>\n",
       "      <td>-1.270512</td>\n",
       "      <td>0.531751</td>\n",
       "      <td>-0.601189</td>\n",
       "      <td>-0.380067</td>\n",
       "      <td>-0.223849</td>\n",
       "    </tr>\n",
       "    <tr>\n",
       "      <th>242</th>\n",
       "      <td>0.016123</td>\n",
       "      <td>-0.078789</td>\n",
       "      <td>0.061986</td>\n",
       "      <td>-0.731069</td>\n",
       "      <td>0.464251</td>\n",
       "      <td>-0.069518</td>\n",
       "      <td>0.000000</td>\n",
       "      <td>0.000000</td>\n",
       "      <td>0.000000</td>\n",
       "      <td>-0.995464</td>\n",
       "      <td>1.128787</td>\n",
       "      <td>-0.051265</td>\n",
       "      <td>0.040247</td>\n",
       "      <td>-0.386987</td>\n",
       "      <td>-0.150992</td>\n",
       "      <td>-2.144250</td>\n",
       "      <td>0.939897</td>\n",
       "      <td>-0.722694</td>\n",
       "    </tr>\n",
       "    <tr>\n",
       "      <th>127</th>\n",
       "      <td>-0.039353</td>\n",
       "      <td>-0.105231</td>\n",
       "      <td>-0.211879</td>\n",
       "      <td>0.413945</td>\n",
       "      <td>-0.338673</td>\n",
       "      <td>0.079610</td>\n",
       "      <td>0.000000</td>\n",
       "      <td>0.000000</td>\n",
       "      <td>0.000000</td>\n",
       "      <td>0.132096</td>\n",
       "      <td>-0.806926</td>\n",
       "      <td>0.000000</td>\n",
       "      <td>-0.060868</td>\n",
       "      <td>-0.153039</td>\n",
       "      <td>-0.437711</td>\n",
       "      <td>0.971996</td>\n",
       "      <td>-0.640533</td>\n",
       "      <td>0.076235</td>\n",
       "    </tr>\n",
       "  </tbody>\n",
       "</table>\n",
       "</div>"
      ],
      "text/plain": [
       "           lr                                                          l1  \\\n",
       "            0         1         2         3         4         5         0   \n",
       "250 -0.007395  0.327684 -0.165099  0.255974 -0.091374 -0.290584  0.000000   \n",
       "178 -0.010324  0.178603  0.193571  0.067361  0.195835  0.022601 -0.047462   \n",
       "349 -0.029105  0.068656 -0.224751  0.253459  0.117788 -0.331295  0.000000   \n",
       "539 -0.030195 -0.260253  0.141758  0.318192 -0.558350 -0.185984  0.000000   \n",
       "43   0.176507  0.192096  0.463288  0.213428 -0.400604 -0.095164  0.000000   \n",
       "217 -0.022679 -0.019094  0.041115  0.509279 -0.106082  0.355072  0.000000   \n",
       "54   0.098424  0.747069 -0.661339  0.019308  0.186576 -0.338614  0.000000   \n",
       "438 -0.026657 -0.279934  0.012145 -0.157384 -0.142901 -0.066228  0.000000   \n",
       "242  0.016123 -0.078789  0.061986 -0.731069  0.464251 -0.069518  0.000000   \n",
       "127 -0.039353 -0.105231 -0.211879  0.413945 -0.338673  0.079610  0.000000   \n",
       "\n",
       "                                                             l2            \\\n",
       "            1         2         3         4         5         0         1   \n",
       "250  0.696807 -0.766285  0.000000 -0.742659 -0.142456 -0.033615  1.126797   \n",
       "178  0.000000  0.000000  0.000000  0.066588  0.000000 -0.038224  0.364421   \n",
       "349  0.000000  0.000000  0.000000  0.012571 -0.342920 -0.055256  0.381861   \n",
       "539 -0.675341  0.419178  0.670208 -1.465595  0.000000 -0.159644 -2.560210   \n",
       "43   0.005884  1.006266  0.000000 -0.285746  0.087630  0.294196  0.218787   \n",
       "217  0.000000  0.000000  0.145948  0.000000  0.781890 -0.036959 -0.141473   \n",
       "54   3.202647  0.000000  0.000000  0.463284  0.000000  0.030637  2.240610   \n",
       "438  0.000000  0.000000  0.000000 -0.146967  0.000000 -0.037326 -1.270512   \n",
       "242  0.000000  0.000000 -0.995464  1.128787 -0.051265  0.040247 -0.386987   \n",
       "127  0.000000  0.000000  0.132096 -0.806926  0.000000 -0.060868 -0.153039   \n",
       "\n",
       "                                             \n",
       "            2         3         4         5  \n",
       "250 -1.611903  0.852566 -0.419739 -1.010499  \n",
       "178  0.304173  0.214321  0.435626  0.108615  \n",
       "349 -0.796191  0.658197  0.198465 -1.275925  \n",
       "539  2.353588  0.810307 -1.372680  0.261047  \n",
       "43   2.363789  0.674914 -0.924798 -1.162357  \n",
       "217 -0.012740  1.203405  0.033402  1.341874  \n",
       "54  -1.202289  0.151184  0.384715 -1.256437  \n",
       "438  0.531751 -0.601189 -0.380067 -0.223849  \n",
       "242 -0.150992 -2.144250  0.939897 -0.722694  \n",
       "127 -0.437711  0.971996 -0.640533  0.076235  "
      ]
     },
     "execution_count": 22,
     "metadata": {},
     "output_type": "execute_result"
    }
   ],
   "source": [
    "### BEGIN SOLUTION\n",
    "# Combine all the coefficients into a dataframe\n",
    "coefficients = list()\n",
    "\n",
    "coeff_labels = [\"lr\", \"l1\", \"l2\"]\n",
    "coeff_models = [lr, lr_l1, lr_l2]\n",
    "\n",
    "for lab, mod in zip(coeff_labels, coeff_models):\n",
    "    coeffs = mod.coef_\n",
    "    coeff_label = pd.MultiIndex(\n",
    "        levels=[[lab], [0, 1, 2, 3, 4, 5]],\n",
    "        codes=[[0, 0, 0, 0, 0, 0], [0, 1, 2, 3, 4, 5]],\n",
    "    )\n",
    "    coefficients.append(pd.DataFrame(coeffs.T, columns=coeff_label))\n",
    "\n",
    "coefficients = pd.concat(coefficients, axis=1)\n",
    "\n",
    "coefficients.sample(10)"
   ]
  },
  {
   "cell_type": "markdown",
   "id": "7c53560e-56ce-49ad-a33e-d29a5a86156f",
   "metadata": {},
   "source": [
    "Prepare six separate plots for each of the multi-class coefficients.\n"
   ]
  },
  {
   "cell_type": "code",
   "execution_count": null,
   "id": "a77b63a2-d6ac-44b3-8916-f17ea681cb9b",
   "metadata": {},
   "outputs": [
    {
     "data": {
      "image/png": "[encoded data removed]",
      "text/plain": [
       "<Figure size 1000x1000 with 6 Axes>"
      ]
     },
     "metadata": {},
     "output_type": "display_data"
    }
   ],
   "source": [
    "fig, axList = plt.subplots(nrows=3, ncols=2)\n",
    "axList = axList.flatten()\n",
    "fig.set_size_inches(10, 10)\n",
    "\n",
    "for ax in enumerate(axList):\n",
    "    loc = ax[0]\n",
    "    ax = ax[1]\n",
    "\n",
    "    data = coefficients.xs(loc, level=1, axis=1)\n",
    "    data.plot(marker=\"o\", ls=\"\", ms=2.0, ax=ax, legend=False)\n",
    "\n",
    "    if ax is axList[0]:\n",
    "        ax.legend(loc=4)\n",
    "\n",
    "    ax.set(title=\"Coefficient Set \" + str(loc))\n",
    "\n",
    "plt.tight_layout()\n",
    "### END SOLUTION"
   ]
  },
  {
   "cell_type": "markdown",
   "id": "02ae8563-26f1-4a7e-a245-9b66b6867437",
   "metadata": {},
   "source": [
    "## Question 6\n",
    "\n",
    "* Predict and store the class for each model.\n",
    "* Store the probability for the predicted class for each model. \n"
   ]
  },
  {
   "cell_type": "code",
   "execution_count": null,
   "id": "6432df2d-3dcc-44c2-ad5e-1e4cab14dcf8",
   "metadata": {},
   "outputs": [
    {
     "data": {
      "application/vnd.microsoft.datawrangler.viewer.v0+json": {
       "columns": [
        {
         "name": "index",
         "rawType": "int64",
         "type": "integer"
        },
        {
         "name": "lr",
         "rawType": "int64",
         "type": "integer"
        },
        {
         "name": "l1",
         "rawType": "int64",
         "type": "integer"
        },
        {
         "name": "l2",
         "rawType": "int64",
         "type": "integer"
        }
       ],
       "conversionMethod": "pd.DataFrame",
       "ref": "9333a755-849b-46a3-be2c-cdb261ca0278",
       "rows": [
        [
         "0",
         "3",
         "3",
         "3"
        ],
        [
         "1",
         "5",
         "5",
         "5"
        ],
        [
         "2",
         "3",
         "3",
         "3"
        ],
        [
         "3",
         "1",
         "1",
         "1"
        ],
        [
         "4",
         "0",
         "0",
         "0"
        ]
       ],
       "shape": {
        "columns": 3,
        "rows": 5
       }
      },
      "text/html": [
       "<div>\n",
       "<style scoped>\n",
       "    .dataframe tbody tr th:only-of-type {\n",
       "        vertical-align: middle;\n",
       "    }\n",
       "\n",
       "    .dataframe tbody tr th {\n",
       "        vertical-align: top;\n",
       "    }\n",
       "\n",
       "    .dataframe thead th {\n",
       "        text-align: right;\n",
       "    }\n",
       "</style>\n",
       "<table border=\"1\" class=\"dataframe\">\n",
       "  <thead>\n",
       "    <tr style=\"text-align: right;\">\n",
       "      <th></th>\n",
       "      <th>lr</th>\n",
       "      <th>l1</th>\n",
       "      <th>l2</th>\n",
       "    </tr>\n",
       "  </thead>\n",
       "  <tbody>\n",
       "    <tr>\n",
       "      <th>0</th>\n",
       "      <td>3</td>\n",
       "      <td>3</td>\n",
       "      <td>3</td>\n",
       "    </tr>\n",
       "    <tr>\n",
       "      <th>1</th>\n",
       "      <td>5</td>\n",
       "      <td>5</td>\n",
       "      <td>5</td>\n",
       "    </tr>\n",
       "    <tr>\n",
       "      <th>2</th>\n",
       "      <td>3</td>\n",
       "      <td>3</td>\n",
       "      <td>3</td>\n",
       "    </tr>\n",
       "    <tr>\n",
       "      <th>3</th>\n",
       "      <td>1</td>\n",
       "      <td>1</td>\n",
       "      <td>1</td>\n",
       "    </tr>\n",
       "    <tr>\n",
       "      <th>4</th>\n",
       "      <td>0</td>\n",
       "      <td>0</td>\n",
       "      <td>0</td>\n",
       "    </tr>\n",
       "  </tbody>\n",
       "</table>\n",
       "</div>"
      ],
      "text/plain": [
       "   lr  l1  l2\n",
       "0   3   3   3\n",
       "1   5   5   5\n",
       "2   3   3   3\n",
       "3   1   1   1\n",
       "4   0   0   0"
      ]
     },
     "execution_count": 24,
     "metadata": {},
     "output_type": "execute_result"
    }
   ],
   "source": [
    "### BEGIN SOLUTION\n",
    "# Predict the class and the probability for each\n",
    "y_pred = list()\n",
    "y_prob = list()\n",
    "\n",
    "coeff_labels = [\"lr\", \"l1\", \"l2\"]\n",
    "coeff_models = [lr, lr_l1, lr_l2]\n",
    "\n",
    "for lab, mod in zip(coeff_labels, coeff_models):\n",
    "    y_pred.append(pd.Series(mod.predict(X_test), name=lab))\n",
    "    y_prob.append(pd.Series(mod.predict_proba(X_test).max(axis=1), name=lab))\n",
    "\n",
    "y_pred = pd.concat(y_pred, axis=1)\n",
    "y_prob = pd.concat(y_prob, axis=1)\n",
    "\n",
    "y_pred.head()"
   ]
  },
  {
   "cell_type": "code",
   "execution_count": 25,
   "id": "e8f6a455-017f-473e-be73-62b9bc6c6920",
   "metadata": {},
   "outputs": [
    {
     "data": {
      "application/vnd.microsoft.datawrangler.viewer.v0+json": {
       "columns": [
        {
         "name": "index",
         "rawType": "int64",
         "type": "integer"
        },
        {
         "name": "lr",
         "rawType": "float64",
         "type": "float"
        },
        {
         "name": "l1",
         "rawType": "float64",
         "type": "float"
        },
        {
         "name": "l2",
         "rawType": "float64",
         "type": "float"
        }
       ],
       "conversionMethod": "pd.DataFrame",
       "ref": "d0e2e5a8-96fd-4d57-9d2d-d03f90e73209",
       "rows": [
        [
         "0",
         "0.9989387951510941",
         "0.998919954496133",
         "0.9999975406158779"
        ],
        [
         "1",
         "0.988165383394015",
         "0.999484084578528",
         "0.9994772739294332"
        ],
        [
         "2",
         "0.987591702833107",
         "0.9959328491856823",
         "0.9996966846086613"
        ],
        [
         "3",
         "0.9813812048715242",
         "0.9991825488185145",
         "0.9998646942822661"
        ],
        [
         "4",
         "0.9982769255850678",
         "0.9999244416036596",
         "0.9999973321241349"
        ]
       ],
       "shape": {
        "columns": 3,
        "rows": 5
       }
      },
      "text/html": [
       "<div>\n",
       "<style scoped>\n",
       "    .dataframe tbody tr th:only-of-type {\n",
       "        vertical-align: middle;\n",
       "    }\n",
       "\n",
       "    .dataframe tbody tr th {\n",
       "        vertical-align: top;\n",
       "    }\n",
       "\n",
       "    .dataframe thead th {\n",
       "        text-align: right;\n",
       "    }\n",
       "</style>\n",
       "<table border=\"1\" class=\"dataframe\">\n",
       "  <thead>\n",
       "    <tr style=\"text-align: right;\">\n",
       "      <th></th>\n",
       "      <th>lr</th>\n",
       "      <th>l1</th>\n",
       "      <th>l2</th>\n",
       "    </tr>\n",
       "  </thead>\n",
       "  <tbody>\n",
       "    <tr>\n",
       "      <th>0</th>\n",
       "      <td>0.998939</td>\n",
       "      <td>0.998920</td>\n",
       "      <td>0.999998</td>\n",
       "    </tr>\n",
       "    <tr>\n",
       "      <th>1</th>\n",
       "      <td>0.988165</td>\n",
       "      <td>0.999484</td>\n",
       "      <td>0.999477</td>\n",
       "    </tr>\n",
       "    <tr>\n",
       "      <th>2</th>\n",
       "      <td>0.987592</td>\n",
       "      <td>0.995933</td>\n",
       "      <td>0.999697</td>\n",
       "    </tr>\n",
       "    <tr>\n",
       "      <th>3</th>\n",
       "      <td>0.981381</td>\n",
       "      <td>0.999183</td>\n",
       "      <td>0.999865</td>\n",
       "    </tr>\n",
       "    <tr>\n",
       "      <th>4</th>\n",
       "      <td>0.998277</td>\n",
       "      <td>0.999924</td>\n",
       "      <td>0.999997</td>\n",
       "    </tr>\n",
       "  </tbody>\n",
       "</table>\n",
       "</div>"
      ],
      "text/plain": [
       "         lr        l1        l2\n",
       "0  0.998939  0.998920  0.999998\n",
       "1  0.988165  0.999484  0.999477\n",
       "2  0.987592  0.995933  0.999697\n",
       "3  0.981381  0.999183  0.999865\n",
       "4  0.998277  0.999924  0.999997"
      ]
     },
     "execution_count": 25,
     "metadata": {},
     "output_type": "execute_result"
    }
   ],
   "source": [
    "y_prob.head()\n",
    "### END SOLUTION"
   ]
  },
  {
   "cell_type": "markdown",
   "id": "fdadfaa4-fc3f-41b1-bad4-0ce3acccbc11",
   "metadata": {},
   "source": [
    "## Question 7\n",
    "\n",
    "For each model, calculate the following error metrics: \n",
    "\n",
    "* Accuracy\n",
    "* Precision\n",
    "* Recall\n",
    "* F-score\n",
    "* Confusion Matrix\n",
    "\n",
    "Decide how to combine the multi-class metrics into a single value for each model.\n"
   ]
  },
  {
   "cell_type": "code",
   "execution_count": null,
   "id": "e3d191c7-5de2-4778-af1a-5a30c0f8036a",
   "metadata": {},
   "outputs": [],
   "source": [
    "### BEGIN SOLUTION\n",
    "from sklearn.metrics import precision_recall_fscore_support as score\n",
    "from sklearn.metrics import confusion_matrix, accuracy_score, roc_auc_score\n",
    "from sklearn.preprocessing import label_binarize\n",
    "\n",
    "metrics = list()\n",
    "cm = dict()\n",
    "\n",
    "for lab in coeff_labels:\n",
    "    # Preciision, recall, f-score from the multi-class support function\n",
    "    precision, recall, fscore, _ = score(y_test, y_pred[lab], average=\"weighted\")\n",
    "\n",
    "    # The usual way to calculate accuracy\n",
    "    accuracy = accuracy_score(y_test, y_pred[lab])\n",
    "\n",
    "    # ROC-AUC scores can be calculated by binarizing the data\n",
    "    auc = roc_auc_score(\n",
    "        label_binarize(y_test, classes=[0, 1, 2, 3, 4, 5]),\n",
    "        label_binarize(y_pred[lab], classes=[0, 1, 2, 3, 4, 5]),\n",
    "        average=\"weighted\",\n",
    "    )\n",
    "\n",
    "    # Last, the confusion matrix\n",
    "    cm[lab] = confusion_matrix(y_test, y_pred[lab])\n",
    "\n",
    "    metrics.append(\n",
    "        pd.Series(\n",
    "            {\n",
    "                \"precision\": precision,\n",
    "                \"recall\": recall,\n",
    "                \"fscore\": fscore,\n",
    "                \"accuracy\": accuracy,\n",
    "                \"auc\": auc,\n",
    "            },\n",
    "            name=lab,\n",
    "        )\n",
    "    )\n",
    "\n",
    "metrics = pd.concat(metrics, axis=1)"
   ]
  },
  {
   "cell_type": "code",
   "execution_count": 27,
   "id": "ba2aea97-72e6-4293-981c-5d833a884c54",
   "metadata": {},
   "outputs": [
    {
     "data": {
      "application/vnd.microsoft.datawrangler.viewer.v0+json": {
       "columns": [
        {
         "name": "index",
         "rawType": "object",
         "type": "string"
        },
        {
         "name": "lr",
         "rawType": "float64",
         "type": "float"
        },
        {
         "name": "l1",
         "rawType": "float64",
         "type": "float"
        },
        {
         "name": "l2",
         "rawType": "float64",
         "type": "float"
        }
       ],
       "conversionMethod": "pd.DataFrame",
       "ref": "1a0ce8a0-4015-4681-94ac-481ea6785f42",
       "rows": [
        [
         "precision",
         "0.9841438255400277",
         "0.9835140761569114",
         "0.9844766167072864"
        ],
        [
         "recall",
         "0.9841423948220065",
         "0.983495145631068",
         "0.9844660194174757"
        ],
        [
         "fscore",
         "0.9841428284156661",
         "0.9834922168781295",
         "0.9844638370754483"
        ],
        [
         "accuracy",
         "0.9841423948220065",
         "0.983495145631068",
         "0.9844660194174757"
        ],
        [
         "auc",
         "0.9903839811943528",
         "0.9899492503377604",
         "0.9905530965729323"
        ]
       ],
       "shape": {
        "columns": 3,
        "rows": 5
       }
      },
      "text/html": [
       "<div>\n",
       "<style scoped>\n",
       "    .dataframe tbody tr th:only-of-type {\n",
       "        vertical-align: middle;\n",
       "    }\n",
       "\n",
       "    .dataframe tbody tr th {\n",
       "        vertical-align: top;\n",
       "    }\n",
       "\n",
       "    .dataframe thead th {\n",
       "        text-align: right;\n",
       "    }\n",
       "</style>\n",
       "<table border=\"1\" class=\"dataframe\">\n",
       "  <thead>\n",
       "    <tr style=\"text-align: right;\">\n",
       "      <th></th>\n",
       "      <th>lr</th>\n",
       "      <th>l1</th>\n",
       "      <th>l2</th>\n",
       "    </tr>\n",
       "  </thead>\n",
       "  <tbody>\n",
       "    <tr>\n",
       "      <th>precision</th>\n",
       "      <td>0.984144</td>\n",
       "      <td>0.983514</td>\n",
       "      <td>0.984477</td>\n",
       "    </tr>\n",
       "    <tr>\n",
       "      <th>recall</th>\n",
       "      <td>0.984142</td>\n",
       "      <td>0.983495</td>\n",
       "      <td>0.984466</td>\n",
       "    </tr>\n",
       "    <tr>\n",
       "      <th>fscore</th>\n",
       "      <td>0.984143</td>\n",
       "      <td>0.983492</td>\n",
       "      <td>0.984464</td>\n",
       "    </tr>\n",
       "    <tr>\n",
       "      <th>accuracy</th>\n",
       "      <td>0.984142</td>\n",
       "      <td>0.983495</td>\n",
       "      <td>0.984466</td>\n",
       "    </tr>\n",
       "    <tr>\n",
       "      <th>auc</th>\n",
       "      <td>0.990384</td>\n",
       "      <td>0.989949</td>\n",
       "      <td>0.990553</td>\n",
       "    </tr>\n",
       "  </tbody>\n",
       "</table>\n",
       "</div>"
      ],
      "text/plain": [
       "                 lr        l1        l2\n",
       "precision  0.984144  0.983514  0.984477\n",
       "recall     0.984142  0.983495  0.984466\n",
       "fscore     0.984143  0.983492  0.984464\n",
       "accuracy   0.984142  0.983495  0.984466\n",
       "auc        0.990384  0.989949  0.990553"
      ]
     },
     "execution_count": 27,
     "metadata": {},
     "output_type": "execute_result"
    }
   ],
   "source": [
    "metrics\n",
    "### END SOLUTION"
   ]
  },
  {
   "cell_type": "markdown",
   "id": "61e91083-855d-46af-9b44-1137d3720f61",
   "metadata": {},
   "source": [
    "## Question 8\n",
    "\n",
    "* Display or plot the confusion matrix for each model.\n"
   ]
  },
  {
   "cell_type": "code",
   "execution_count": null,
   "id": "4d2a6264-0f21-4da2-9520-e913b3101c64",
   "metadata": {},
   "outputs": [
    {
     "data": {
      "image/png": "[encoded data removed]",
      "text/plain": [
       "<Figure size 1200x1000 with 7 Axes>"
      ]
     },
     "metadata": {},
     "output_type": "display_data"
    }
   ],
   "source": [
    "### BEGIN SOLUTION\n",
    "fig, axList = plt.subplots(nrows=2, ncols=2)\n",
    "axList = axList.flatten()\n",
    "fig.set_size_inches(12, 10)\n",
    "\n",
    "axList[-1].axis(\"off\")\n",
    "\n",
    "for ax, lab in zip(axList[:-1], coeff_labels):\n",
    "    sns.heatmap(cm[lab], ax=ax, annot=True, fmt=\"d\")\n",
    "    ax.set(title=lab)\n",
    "\n",
    "plt.tight_layout()\n",
    "### END SOLUTION"
   ]
  },
  {
   "cell_type": "markdown",
   "id": "6989f4da-f87c-4d3e-bb01-09c5f5e8e6a9",
   "metadata": {},
   "source": [
    "---\n",
    "### Machine Learning Foundation (C) 2020 IBM Corporation\n"
   ]
  }
 ],
 "metadata": {
  "kernelspec": {
   "display_name": "Python 3",
   "language": "python",
   "name": "python3"
  },
  "language_info": {
   "codemirror_mode": {
    "name": "ipython",
    "version": 3
   },
   "file_extension": ".py",
   "mimetype": "text/x-python",
   "name": "python",
   "nbconvert_exporter": "python",
   "pygments_lexer": "ipython3",
   "version": "3.13.2"
  },
  "prev_pub_hash": "5595500a1b20d83ab72984280f4996e5d926d4c49321ec6e080dd624afd105cc"
 },
 "nbformat": 4,
 "nbformat_minor": 4
}
